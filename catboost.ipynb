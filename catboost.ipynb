{
 "cells": [
  {
   "cell_type": "markdown",
   "metadata": {},
   "source": [
    "This model looks at catboosted decision tree, random forest, linear regression"
   ]
  },
  {
   "cell_type": "code",
   "execution_count": 69,
   "metadata": {},
   "outputs": [],
   "source": [
    "from catboost import CatBoostRegressor\n",
    "from sklearn.metrics import mean_squared_error\n",
    "from sklearn.model_selection import KFold, train_test_split\n",
    "import pandas as pd\n",
    "import numpy as np"
   ]
  },
  {
   "cell_type": "code",
   "execution_count": 78,
   "metadata": {
    "tags": []
   },
   "outputs": [
    {
     "output_type": "stream",
     "name": "stdout",
     "text": "Training set  (3000, 29)\nTest set  (4398, 27)\n"
    }
   ],
   "source": [
    "# Load data\n",
    "train = pd.read_csv('../Data/train.csv')\n",
    "test = pd.read_csv('../Data/test.csv')\n",
    "\n",
    "# Check data\n",
    "print(\"Training set \", train.shape)\n",
    "print(\"Test set \", test.shape)\n",
    "\n",
    "# print(\"NAs in train set\\n\", train.isnull().sum()[train.isnull().sum() != 0])\n",
    "# print(\"NAs in test set\\n\", test.isnull().sum()[test.isnull().sum() != 0])"
   ]
  },
  {
   "cell_type": "code",
   "execution_count": 71,
   "metadata": {},
   "outputs": [],
   "source": [
    "# Fill remaining NA's with -1\n",
    "train.fillna(-1, inplace = True)\n",
    "test.fillna(-1, inplace = True)"
   ]
  },
  {
   "cell_type": "code",
   "execution_count": 73,
   "metadata": {},
   "outputs": [
    {
     "output_type": "execute_result",
     "data": {
      "text/plain": "                id        budget   popularity      runtime    runtime_h  \\\ncount  4398.000000  4.398000e+03  4398.000000  4398.000000  4398.000000   \nmean   5199.500000  2.262824e+07     8.550230   107.524329     1.225330   \nstd    1269.737571  3.690376e+07    12.209014    21.297309     0.452848   \nmin    3001.000000  0.000000e+00     0.000001     0.000000     0.000000   \n25%    4100.250000  0.000000e+00     3.895186    94.000000     1.000000   \n50%    5199.500000  7.400000e+06     7.482241   104.000000     1.000000   \n75%    6298.750000  2.800000e+07    10.938524   118.000000     1.000000   \nmax    7398.000000  2.600000e+08   547.488298   320.000000     5.000000   \n\n         runtime_m  runtime_log   budget_log  popularity_log  \ncount  4398.000000  4398.000000  4398.000000    4.398000e+03  \nmean     34.004548     4.659979    11.799167    1.985449e+00  \nstd      15.481638     0.309302     7.444733    7.509477e-01  \nmin       0.000000     0.000000     0.000000    9.999995e-07  \n25%      25.250000     4.553877     0.000000    1.588252e+00  \n50%      36.000000     4.653960    15.816991    2.137975e+00  \n75%      45.000000     4.779123    17.147715    2.479770e+00  \nmax      59.000000     5.771441    19.376192    6.307166e+00  ",
      "text/html": "<div>\n<style scoped>\n    .dataframe tbody tr th:only-of-type {\n        vertical-align: middle;\n    }\n\n    .dataframe tbody tr th {\n        vertical-align: top;\n    }\n\n    .dataframe thead th {\n        text-align: right;\n    }\n</style>\n<table border=\"1\" class=\"dataframe\">\n  <thead>\n    <tr style=\"text-align: right;\">\n      <th></th>\n      <th>id</th>\n      <th>budget</th>\n      <th>popularity</th>\n      <th>runtime</th>\n      <th>runtime_h</th>\n      <th>runtime_m</th>\n      <th>runtime_log</th>\n      <th>budget_log</th>\n      <th>popularity_log</th>\n    </tr>\n  </thead>\n  <tbody>\n    <tr>\n      <th>count</th>\n      <td>4398.000000</td>\n      <td>4.398000e+03</td>\n      <td>4398.000000</td>\n      <td>4398.000000</td>\n      <td>4398.000000</td>\n      <td>4398.000000</td>\n      <td>4398.000000</td>\n      <td>4398.000000</td>\n      <td>4.398000e+03</td>\n    </tr>\n    <tr>\n      <th>mean</th>\n      <td>5199.500000</td>\n      <td>2.262824e+07</td>\n      <td>8.550230</td>\n      <td>107.524329</td>\n      <td>1.225330</td>\n      <td>34.004548</td>\n      <td>4.659979</td>\n      <td>11.799167</td>\n      <td>1.985449e+00</td>\n    </tr>\n    <tr>\n      <th>std</th>\n      <td>1269.737571</td>\n      <td>3.690376e+07</td>\n      <td>12.209014</td>\n      <td>21.297309</td>\n      <td>0.452848</td>\n      <td>15.481638</td>\n      <td>0.309302</td>\n      <td>7.444733</td>\n      <td>7.509477e-01</td>\n    </tr>\n    <tr>\n      <th>min</th>\n      <td>3001.000000</td>\n      <td>0.000000e+00</td>\n      <td>0.000001</td>\n      <td>0.000000</td>\n      <td>0.000000</td>\n      <td>0.000000</td>\n      <td>0.000000</td>\n      <td>0.000000</td>\n      <td>9.999995e-07</td>\n    </tr>\n    <tr>\n      <th>25%</th>\n      <td>4100.250000</td>\n      <td>0.000000e+00</td>\n      <td>3.895186</td>\n      <td>94.000000</td>\n      <td>1.000000</td>\n      <td>25.250000</td>\n      <td>4.553877</td>\n      <td>0.000000</td>\n      <td>1.588252e+00</td>\n    </tr>\n    <tr>\n      <th>50%</th>\n      <td>5199.500000</td>\n      <td>7.400000e+06</td>\n      <td>7.482241</td>\n      <td>104.000000</td>\n      <td>1.000000</td>\n      <td>36.000000</td>\n      <td>4.653960</td>\n      <td>15.816991</td>\n      <td>2.137975e+00</td>\n    </tr>\n    <tr>\n      <th>75%</th>\n      <td>6298.750000</td>\n      <td>2.800000e+07</td>\n      <td>10.938524</td>\n      <td>118.000000</td>\n      <td>1.000000</td>\n      <td>45.000000</td>\n      <td>4.779123</td>\n      <td>17.147715</td>\n      <td>2.479770e+00</td>\n    </tr>\n    <tr>\n      <th>max</th>\n      <td>7398.000000</td>\n      <td>2.600000e+08</td>\n      <td>547.488298</td>\n      <td>320.000000</td>\n      <td>5.000000</td>\n      <td>59.000000</td>\n      <td>5.771441</td>\n      <td>19.376192</td>\n      <td>6.307166e+00</td>\n    </tr>\n  </tbody>\n</table>\n</div>"
     },
     "metadata": {},
     "execution_count": 73
    }
   ],
   "source": [
    "# train.iloc[:, :45].describe()\n",
    "# test.iloc[:, :45].describe()"
   ]
  },
  {
   "cell_type": "code",
   "execution_count": 74,
   "metadata": {
    "tags": []
   },
   "outputs": [],
   "source": [
    "y = train.revenue_log\n",
    "X = train.drop('revenue_log', axis=1)"
   ]
  },
  {
   "cell_type": "code",
   "execution_count": 79,
   "metadata": {
    "tags": []
   },
   "outputs": [
    {
     "output_type": "stream",
     "name": "stderr",
     "text": "ERROR:root:Internal Python error in the inspect module.\nBelow is the traceback from this internal error.\n\nTraceback (most recent call last):\n  File \"/Users/timluo1/opt/anaconda3/lib/python3.7/site-packages/IPython/core/interactiveshell.py\", line 3331, in run_code\n    exec(code_obj, self.user_global_ns, self.user_ns)\n  File \"<ipython-input-79-3b3dabef45e7>\", line 1, in <module>\n    X_tr, X_val, y_tr, y_val = train_test_split(train, test, test_size=.2, random_state=13)\n  File \"/Users/timluo1/opt/anaconda3/lib/python3.7/site-packages/sklearn/model_selection/_split.py\", line 2127, in train_test_split\n    arrays = indexable(*arrays)\n  File \"/Users/timluo1/opt/anaconda3/lib/python3.7/site-packages/sklearn/utils/validation.py\", line 293, in indexable\n    check_consistent_length(*result)\n  File \"/Users/timluo1/opt/anaconda3/lib/python3.7/site-packages/sklearn/utils/validation.py\", line 257, in check_consistent_length\n    \" samples: %r\" % [int(l) for l in lengths])\nValueError: Found input variables with inconsistent numbers of samples: [3000, 4398]\n\nDuring handling of the above exception, another exception occurred:\n\nTraceback (most recent call last):\n  File \"/Users/timluo1/opt/anaconda3/lib/python3.7/site-packages/IPython/core/interactiveshell.py\", line 2044, in showtraceback\n    stb = value._render_traceback_()\nAttributeError: 'ValueError' object has no attribute '_render_traceback_'\n\nDuring handling of the above exception, another exception occurred:\n\nTraceback (most recent call last):\n  File \"/Users/timluo1/opt/anaconda3/lib/python3.7/site-packages/IPython/core/ultratb.py\", line 1148, in get_records\n    return _fixed_getinnerframes(etb, number_of_lines_of_context, tb_offset)\n  File \"/Users/timluo1/opt/anaconda3/lib/python3.7/site-packages/IPython/core/ultratb.py\", line 316, in wrapped\n    return f(*args, **kwargs)\n  File \"/Users/timluo1/opt/anaconda3/lib/python3.7/site-packages/IPython/core/ultratb.py\", line 350, in _fixed_getinnerframes\n    records = fix_frame_records_filenames(inspect.getinnerframes(etb, context))\n  File \"/Users/timluo1/opt/anaconda3/lib/python3.7/inspect.py\", line 1502, in getinnerframes\n    frameinfo = (tb.tb_frame,) + getframeinfo(tb, context)\n  File \"/Users/timluo1/opt/anaconda3/lib/python3.7/inspect.py\", line 1460, in getframeinfo\n    filename = getsourcefile(frame) or getfile(frame)\n  File \"/Users/timluo1/opt/anaconda3/lib/python3.7/inspect.py\", line 696, in getsourcefile\n    if getattr(getmodule(object, filename), '__loader__', None) is not None:\n  File \"/Users/timluo1/opt/anaconda3/lib/python3.7/inspect.py\", line 725, in getmodule\n    file = getabsfile(object, _filename)\n  File \"/Users/timluo1/opt/anaconda3/lib/python3.7/inspect.py\", line 709, in getabsfile\n    return os.path.normcase(os.path.abspath(_filename))\n  File \"/Users/timluo1/opt/anaconda3/lib/python3.7/posixpath.py\", line 383, in abspath\n    cwd = os.getcwd()\nFileNotFoundError: [Errno 2] No such file or directory\n"
    },
    {
     "output_type": "error",
     "ename": "ValueError",
     "evalue": "Found input variables with inconsistent numbers of samples: [3000, 4398]",
     "traceback": [
      "\u001b[0;31m---------------------------------------------------------------------------\u001b[0m"
     ]
    }
   ],
   "source": [
    "X_tr, X_val, y_tr, y_val = train_test_split(X, y, test_size=.2, random_state=13)"
   ]
  },
  {
   "cell_type": "code",
   "execution_count": 76,
   "metadata": {
    "tags": []
   },
   "outputs": [
    {
     "output_type": "stream",
     "name": "stdout",
     "text": "Training:  (2400, 28)\nValidation:  (600, 28)\nTest:  (4398, 27)\n"
    }
   ],
   "source": [
    "print('Training: ', X_tr.shape)\n",
    "print('Validation: ', X_val.shape)\n",
    "print('Test: ', test.shape)"
   ]
  },
  {
   "cell_type": "code",
   "execution_count": 77,
   "metadata": {
    "tags": []
   },
   "outputs": [
    {
     "output_type": "stream",
     "name": "stderr",
     "text": "ERROR:root:Internal Python error in the inspect module.\nBelow is the traceback from this internal error.\n\nERROR:root:Internal Python error in the inspect module.\nBelow is the traceback from this internal error.\n\nERROR:root:Internal Python error in the inspect module.\nBelow is the traceback from this internal error.\n\nTraceback (most recent call last):\n  File \"_catboost.pyx\", line 2461, in _catboost.get_float_feature\n  File \"_catboost.pyx\", line 1592, in _catboost._FloatOrNan\n  File \"_catboost.pyx\", line 1439, in _catboost._FloatOrNanFromString\nTypeError: Cannot convert 'b\"[{'id': 107473, 'name': '\\xd0\\x98\\xd1\\x80\\xd0\\xbe\\xd0\\xbd\\xd0\\xb8\\xd1\\x8f \\xd1\\x81\\xd1\\x83\\xd0\\xb4\\xd1\\x8c\\xd0\\xb1\\xd1\\x8b (\\xd0\\x9a\\xd0\\xbe\\xd0\\xbb\\xd0\\xbb\\xd0\\xb5\\xd0\\xba\\xd1\\x86\\xd0\\xb8\\xd1\\x8f)', 'poster_path': '/1DzMfdobDqF67PhAtLiECqLbsqV.jpg', 'backdrop_path': None}]\"' to float\n\nDuring handling of the above exception, another exception occurred:\n\nTraceback (most recent call last):\n  File \"/Users/timluo1/opt/anaconda3/lib/python3.7/site-packages/IPython/core/interactiveshell.py\", line 3331, in run_code\n    exec(code_obj, self.user_global_ns, self.user_ns)\n  File \"<ipython-input-77-df4dc29698b9>\", line 3, in <module>\n    cat_boost.fit(X_tr, y_tr)\n  File \"/Users/timluo1/opt/anaconda3/lib/python3.7/site-packages/catboost/core.py\", line 4662, in fit\n    save_snapshot, snapshot_file, snapshot_interval, init_model)\n  File \"/Users/timluo1/opt/anaconda3/lib/python3.7/site-packages/catboost/core.py\", line 1731, in _fit\n    save_snapshot, snapshot_file, snapshot_interval, init_model\n  File \"/Users/timluo1/opt/anaconda3/lib/python3.7/site-packages/catboost/core.py\", line 1619, in _prepare_train_params\n    group_weight, subgroup_id, pairs_weight, baseline, column_description)\n  File \"/Users/timluo1/opt/anaconda3/lib/python3.7/site-packages/catboost/core.py\", line 957, in _build_train_pool\n    group_weight=group_weight, subgroup_id=subgroup_id, pairs_weight=pairs_weight, baseline=baseline)\n  File \"/Users/timluo1/opt/anaconda3/lib/python3.7/site-packages/catboost/core.py\", line 434, in __init__\n    self._init(data, label, cat_features, text_features, pairs, weight, group_id, group_weight, subgroup_id, pairs_weight, baseline, feature_names, thread_count)\n  File \"/Users/timluo1/opt/anaconda3/lib/python3.7/site-packages/catboost/core.py\", line 938, in _init\n    self._init_pool(data, label, cat_features, text_features, pairs, weight, group_id, group_weight, subgroup_id, pairs_weight, baseline, feature_names, thread_count)\n  File \"_catboost.pyx\", line 3759, in _catboost._PoolBase._init_pool\n  File \"_catboost.pyx\", line 3800, in _catboost._PoolBase._init_pool\n  File \"_catboost.pyx\", line 3649, in _catboost._PoolBase._init_features_order_layout_pool\n  File \"_catboost.pyx\", line 2814, in _catboost._set_features_order_data_pd_data_frame\n  File \"_catboost.pyx\", line 2502, in _catboost.create_num_factor_data\n  File \"_catboost.pyx\", line 2463, in _catboost.get_float_feature\n_catboost.CatBoostError: Bad value for num_feature[non_default_doc_idx=5,feature_idx=1]=\"[{'id': 107473, 'name': 'Ирония судьбы (Коллекция)', 'poster_path': '/1DzMfdobDqF67PhAtLiECqLbsqV.jpg', 'backdrop_path': None}]\": Cannot convert 'b\"[{'id': 107473, 'name': '\\xd0\\x98\\xd1\\x80\\xd0\\xbe\\xd0\\xbd\\xd0\\xb8\\xd1\\x8f \\xd1\\x81\\xd1\\x83\\xd0\\xb4\\xd1\\x8c\\xd0\\xb1\\xd1\\x8b (\\xd0\\x9a\\xd0\\xbe\\xd0\\xbb\\xd0\\xbb\\xd0\\xb5\\xd0\\xba\\xd1\\x86\\xd0\\xb8\\xd1\\x8f)', 'poster_path': '/1DzMfdobDqF67PhAtLiECqLbsqV.jpg', 'backdrop_path': None}]\"' to float\n\nDuring handling of the above exception, another exception occurred:\n\nTraceback (most recent call last):\n  File \"/Users/timluo1/opt/anaconda3/lib/python3.7/site-packages/IPython/core/interactiveshell.py\", line 2044, in showtraceback\n    stb = value._render_traceback_()\nAttributeError: 'CatBoostError' object has no attribute '_render_traceback_'\n\nDuring handling of the above exception, another exception occurred:\n\nTraceback (most recent call last):\n  File \"/Users/timluo1/opt/anaconda3/lib/python3.7/site-packages/IPython/core/ultratb.py\", line 1148, in get_records\n    return _fixed_getinnerframes(etb, number_of_lines_of_context, tb_offset)\n  File \"/Users/timluo1/opt/anaconda3/lib/python3.7/site-packages/IPython/core/ultratb.py\", line 316, in wrapped\n    return f(*args, **kwargs)\n  File \"/Users/timluo1/opt/anaconda3/lib/python3.7/site-packages/IPython/core/ultratb.py\", line 350, in _fixed_getinnerframes\n    records = fix_frame_records_filenames(inspect.getinnerframes(etb, context))\n  File \"/Users/timluo1/opt/anaconda3/lib/python3.7/inspect.py\", line 1502, in getinnerframes\n    frameinfo = (tb.tb_frame,) + getframeinfo(tb, context)\n  File \"/Users/timluo1/opt/anaconda3/lib/python3.7/inspect.py\", line 1460, in getframeinfo\n    filename = getsourcefile(frame) or getfile(frame)\n  File \"/Users/timluo1/opt/anaconda3/lib/python3.7/inspect.py\", line 696, in getsourcefile\n    if getattr(getmodule(object, filename), '__loader__', None) is not None:\n  File \"/Users/timluo1/opt/anaconda3/lib/python3.7/inspect.py\", line 725, in getmodule\n    file = getabsfile(object, _filename)\n  File \"/Users/timluo1/opt/anaconda3/lib/python3.7/inspect.py\", line 709, in getabsfile\n    return os.path.normcase(os.path.abspath(_filename))\n  File \"/Users/timluo1/opt/anaconda3/lib/python3.7/posixpath.py\", line 383, in abspath\n    cwd = os.getcwd()\nFileNotFoundError: [Errno 2] No such file or directory\nTraceback (most recent call last):\n  File \"_catboost.pyx\", line 2461, in _catboost.get_float_feature\n  File \"_catboost.pyx\", line 1592, in _catboost._FloatOrNan\n  File \"_catboost.pyx\", line 1439, in _catboost._FloatOrNanFromString\nTypeError: Cannot convert 'b\"[{'id': 107473, 'name': '\\xd0\\x98\\xd1\\x80\\xd0\\xbe\\xd0\\xbd\\xd0\\xb8\\xd1\\x8f \\xd1\\x81\\xd1\\x83\\xd0\\xb4\\xd1\\x8c\\xd0\\xb1\\xd1\\x8b (\\xd0\\x9a\\xd0\\xbe\\xd0\\xbb\\xd0\\xbb\\xd0\\xb5\\xd0\\xba\\xd1\\x86\\xd0\\xb8\\xd1\\x8f)', 'poster_path': '/1DzMfdobDqF67PhAtLiECqLbsqV.jpg', 'backdrop_path': None}]\"' to float\n\nDuring handling of the above exception, another exception occurred:\n\nTraceback (most recent call last):\n  File \"/Users/timluo1/opt/anaconda3/lib/python3.7/site-packages/IPython/core/interactiveshell.py\", line 3331, in run_code\n    exec(code_obj, self.user_global_ns, self.user_ns)\n  File \"<ipython-input-77-df4dc29698b9>\", line 3, in <module>\n    cat_boost.fit(X_tr, y_tr)\n  File \"/Users/timluo1/opt/anaconda3/lib/python3.7/site-packages/catboost/core.py\", line 4662, in fit\n    save_snapshot, snapshot_file, snapshot_interval, init_model)\n  File \"/Users/timluo1/opt/anaconda3/lib/python3.7/site-packages/catboost/core.py\", line 1731, in _fit\n    save_snapshot, snapshot_file, snapshot_interval, init_model\n  File \"/Users/timluo1/opt/anaconda3/lib/python3.7/site-packages/catboost/core.py\", line 1619, in _prepare_train_params\n    group_weight, subgroup_id, pairs_weight, baseline, column_description)\n  File \"/Users/timluo1/opt/anaconda3/lib/python3.7/site-packages/catboost/core.py\", line 957, in _build_train_pool\n    group_weight=group_weight, subgroup_id=subgroup_id, pairs_weight=pairs_weight, baseline=baseline)\n  File \"/Users/timluo1/opt/anaconda3/lib/python3.7/site-packages/catboost/core.py\", line 434, in __init__\n    self._init(data, label, cat_features, text_features, pairs, weight, group_id, group_weight, subgroup_id, pairs_weight, baseline, feature_names, thread_count)\n  File \"/Users/timluo1/opt/anaconda3/lib/python3.7/site-packages/catboost/core.py\", line 938, in _init\n    self._init_pool(data, label, cat_features, text_features, pairs, weight, group_id, group_weight, subgroup_id, pairs_weight, baseline, feature_names, thread_count)\n  File \"_catboost.pyx\", line 3759, in _catboost._PoolBase._init_pool\n  File \"_catboost.pyx\", line 3800, in _catboost._PoolBase._init_pool\n  File \"_catboost.pyx\", line 3649, in _catboost._PoolBase._init_features_order_layout_pool\n  File \"_catboost.pyx\", line 2814, in _catboost._set_features_order_data_pd_data_frame\n  File \"_catboost.pyx\", line 2502, in _catboost.create_num_factor_data\n  File \"_catboost.pyx\", line 2463, in _catboost.get_float_feature\n_catboost.CatBoostError: Bad value for num_feature[non_default_doc_idx=5,feature_idx=1]=\"[{'id': 107473, 'name': 'Ирония судьбы (Коллекция)', 'poster_path': '/1DzMfdobDqF67PhAtLiECqLbsqV.jpg', 'backdrop_path': None}]\": Cannot convert 'b\"[{'id': 107473, 'name': '\\xd0\\x98\\xd1\\x80\\xd0\\xbe\\xd0\\xbd\\xd0\\xb8\\xd1\\x8f \\xd1\\x81\\xd1\\x83\\xd0\\xb4\\xd1\\x8c\\xd0\\xb1\\xd1\\x8b (\\xd0\\x9a\\xd0\\xbe\\xd0\\xbb\\xd0\\xbb\\xd0\\xb5\\xd0\\xba\\xd1\\x86\\xd0\\xb8\\xd1\\x8f)', 'poster_path': '/1DzMfdobDqF67PhAtLiECqLbsqV.jpg', 'backdrop_path': None}]\"' to float\n\nDuring handling of the above exception, another exception occurred:\n\nTraceback (most recent call last):\n  File \"/Users/timluo1/opt/anaconda3/lib/python3.7/site-packages/IPython/core/interactiveshell.py\", line 2044, in showtraceback\n    stb = value._render_traceback_()\nAttributeError: 'CatBoostError' object has no attribute '_render_traceback_'\n\nDuring handling of the above exception, another exception occurred:\n\nTraceback (most recent call last):\n  File \"/Users/timluo1/opt/anaconda3/lib/python3.7/site-packages/IPython/core/interactiveshell.py\", line 3254, in run_ast_nodes\n    if (await self.run_code(code, result,  async_=asy)):\n  File \"/Users/timluo1/opt/anaconda3/lib/python3.7/site-packages/IPython/core/interactiveshell.py\", line 3348, in run_code\n    self.showtraceback(running_compiled_code=True)\n  File \"/Users/timluo1/opt/anaconda3/lib/python3.7/site-packages/IPython/core/interactiveshell.py\", line 2047, in showtraceback\n    value, tb, tb_offset=tb_offset)\n  File \"/Users/timluo1/opt/anaconda3/lib/python3.7/site-packages/IPython/core/ultratb.py\", line 1415, in structured_traceback\n    self, etype, value, tb, tb_offset, number_of_lines_of_context)\n  File \"/Users/timluo1/opt/anaconda3/lib/python3.7/site-packages/IPython/core/ultratb.py\", line 1315, in structured_traceback\n    self, etype, value, tb, tb_offset, number_of_lines_of_context\n  File \"/Users/timluo1/opt/anaconda3/lib/python3.7/site-packages/IPython/core/ultratb.py\", line 1183, in structured_traceback\n    formatted_exceptions += self.prepare_chained_exception_message(evalue.__cause__)\nTypeError: can only concatenate str (not \"list\") to str\n\nDuring handling of the above exception, another exception occurred:\n\nTraceback (most recent call last):\n  File \"/Users/timluo1/opt/anaconda3/lib/python3.7/site-packages/IPython/core/interactiveshell.py\", line 2044, in showtraceback\n    stb = value._render_traceback_()\nAttributeError: 'TypeError' object has no attribute '_render_traceback_'\n\nDuring handling of the above exception, another exception occurred:\n\nTraceback (most recent call last):\n  File \"/Users/timluo1/opt/anaconda3/lib/python3.7/site-packages/IPython/core/ultratb.py\", line 1148, in get_records\n    return _fixed_getinnerframes(etb, number_of_lines_of_context, tb_offset)\n  File \"/Users/timluo1/opt/anaconda3/lib/python3.7/site-packages/IPython/core/ultratb.py\", line 316, in wrapped\n    return f(*args, **kwargs)\n  File \"/Users/timluo1/opt/anaconda3/lib/python3.7/site-packages/IPython/core/ultratb.py\", line 350, in _fixed_getinnerframes\n    records = fix_frame_records_filenames(inspect.getinnerframes(etb, context))\n  File \"/Users/timluo1/opt/anaconda3/lib/python3.7/inspect.py\", line 1502, in getinnerframes\n    frameinfo = (tb.tb_frame,) + getframeinfo(tb, context)\n  File \"/Users/timluo1/opt/anaconda3/lib/python3.7/inspect.py\", line 1460, in getframeinfo\n    filename = getsourcefile(frame) or getfile(frame)\n  File \"/Users/timluo1/opt/anaconda3/lib/python3.7/inspect.py\", line 696, in getsourcefile\n    if getattr(getmodule(object, filename), '__loader__', None) is not None:\n  File \"/Users/timluo1/opt/anaconda3/lib/python3.7/inspect.py\", line 725, in getmodule\n    file = getabsfile(object, _filename)\n  File \"/Users/timluo1/opt/anaconda3/lib/python3.7/inspect.py\", line 709, in getabsfile\n    return os.path.normcase(os.path.abspath(_filename))\n  File \"/Users/timluo1/opt/anaconda3/lib/python3.7/posixpath.py\", line 383, in abspath\n    cwd = os.getcwd()\nFileNotFoundError: [Errno 2] No such file or directory\nTraceback (most recent call last):\n  File \"_catboost.pyx\", line 2461, in _catboost.get_float_feature\n  File \"_catboost.pyx\", line 1592, in _catboost._FloatOrNan\n  File \"_catboost.pyx\", line 1439, in _catboost._FloatOrNanFromString\nTypeError: Cannot convert 'b\"[{'id': 107473, 'name': '\\xd0\\x98\\xd1\\x80\\xd0\\xbe\\xd0\\xbd\\xd0\\xb8\\xd1\\x8f \\xd1\\x81\\xd1\\x83\\xd0\\xb4\\xd1\\x8c\\xd0\\xb1\\xd1\\x8b (\\xd0\\x9a\\xd0\\xbe\\xd0\\xbb\\xd0\\xbb\\xd0\\xb5\\xd0\\xba\\xd1\\x86\\xd0\\xb8\\xd1\\x8f)', 'poster_path': '/1DzMfdobDqF67PhAtLiECqLbsqV.jpg', 'backdrop_path': None}]\"' to float\n\nDuring handling of the above exception, another exception occurred:\n\nTraceback (most recent call last):\n  File \"/Users/timluo1/opt/anaconda3/lib/python3.7/site-packages/IPython/core/interactiveshell.py\", line 3331, in run_code\n    exec(code_obj, self.user_global_ns, self.user_ns)\n  File \"<ipython-input-77-df4dc29698b9>\", line 3, in <module>\n    cat_boost.fit(X_tr, y_tr)\n  File \"/Users/timluo1/opt/anaconda3/lib/python3.7/site-packages/catboost/core.py\", line 4662, in fit\n    save_snapshot, snapshot_file, snapshot_interval, init_model)\n  File \"/Users/timluo1/opt/anaconda3/lib/python3.7/site-packages/catboost/core.py\", line 1731, in _fit\n    save_snapshot, snapshot_file, snapshot_interval, init_model\n  File \"/Users/timluo1/opt/anaconda3/lib/python3.7/site-packages/catboost/core.py\", line 1619, in _prepare_train_params\n    group_weight, subgroup_id, pairs_weight, baseline, column_description)\n  File \"/Users/timluo1/opt/anaconda3/lib/python3.7/site-packages/catboost/core.py\", line 957, in _build_train_pool\n    group_weight=group_weight, subgroup_id=subgroup_id, pairs_weight=pairs_weight, baseline=baseline)\n  File \"/Users/timluo1/opt/anaconda3/lib/python3.7/site-packages/catboost/core.py\", line 434, in __init__\n    self._init(data, label, cat_features, text_features, pairs, weight, group_id, group_weight, subgroup_id, pairs_weight, baseline, feature_names, thread_count)\n  File \"/Users/timluo1/opt/anaconda3/lib/python3.7/site-packages/catboost/core.py\", line 938, in _init\n    self._init_pool(data, label, cat_features, text_features, pairs, weight, group_id, group_weight, subgroup_id, pairs_weight, baseline, feature_names, thread_count)\n  File \"_catboost.pyx\", line 3759, in _catboost._PoolBase._init_pool\n  File \"_catboost.pyx\", line 3800, in _catboost._PoolBase._init_pool\n  File \"_catboost.pyx\", line 3649, in _catboost._PoolBase._init_features_order_layout_pool\n  File \"_catboost.pyx\", line 2814, in _catboost._set_features_order_data_pd_data_frame\n  File \"_catboost.pyx\", line 2502, in _catboost.create_num_factor_data\n  File \"_catboost.pyx\", line 2463, in _catboost.get_float_feature\n_catboost.CatBoostError: Bad value for num_feature[non_default_doc_idx=5,feature_idx=1]=\"[{'id': 107473, 'name': 'Ирония судьбы (Коллекция)', 'poster_path': '/1DzMfdobDqF67PhAtLiECqLbsqV.jpg', 'backdrop_path': None}]\": Cannot convert 'b\"[{'id': 107473, 'name': '\\xd0\\x98\\xd1\\x80\\xd0\\xbe\\xd0\\xbd\\xd0\\xb8\\xd1\\x8f \\xd1\\x81\\xd1\\x83\\xd0\\xb4\\xd1\\x8c\\xd0\\xb1\\xd1\\x8b (\\xd0\\x9a\\xd0\\xbe\\xd0\\xbb\\xd0\\xbb\\xd0\\xb5\\xd0\\xba\\xd1\\x86\\xd0\\xb8\\xd1\\x8f)', 'poster_path': '/1DzMfdobDqF67PhAtLiECqLbsqV.jpg', 'backdrop_path': None}]\"' to float\n\nDuring handling of the above exception, another exception occurred:\n\nTraceback (most recent call last):\n  File \"/Users/timluo1/opt/anaconda3/lib/python3.7/site-packages/IPython/core/interactiveshell.py\", line 2044, in showtraceback\n    stb = value._render_traceback_()\nAttributeError: 'CatBoostError' object has no attribute '_render_traceback_'\n\nDuring handling of the above exception, another exception occurred:\n\nTraceback (most recent call last):\n  File \"/Users/timluo1/opt/anaconda3/lib/python3.7/site-packages/IPython/core/interactiveshell.py\", line 3254, in run_ast_nodes\n    if (await self.run_code(code, result,  async_=asy)):\n  File \"/Users/timluo1/opt/anaconda3/lib/python3.7/site-packages/IPython/core/interactiveshell.py\", line 3348, in run_code\n    self.showtraceback(running_compiled_code=True)\n  File \"/Users/timluo1/opt/anaconda3/lib/python3.7/site-packages/IPython/core/interactiveshell.py\", line 2047, in showtraceback\n    value, tb, tb_offset=tb_offset)\n  File \"/Users/timluo1/opt/anaconda3/lib/python3.7/site-packages/IPython/core/ultratb.py\", line 1415, in structured_traceback\n    self, etype, value, tb, tb_offset, number_of_lines_of_context)\n  File \"/Users/timluo1/opt/anaconda3/lib/python3.7/site-packages/IPython/core/ultratb.py\", line 1315, in structured_traceback\n    self, etype, value, tb, tb_offset, number_of_lines_of_context\n  File \"/Users/timluo1/opt/anaconda3/lib/python3.7/site-packages/IPython/core/ultratb.py\", line 1183, in structured_traceback\n    formatted_exceptions += self.prepare_chained_exception_message(evalue.__cause__)\nTypeError: can only concatenate str (not \"list\") to str\n\nDuring handling of the above exception, another exception occurred:\n\nTraceback (most recent call last):\n  File \"/Users/timluo1/opt/anaconda3/lib/python3.7/site-packages/IPython/core/interactiveshell.py\", line 2044, in showtraceback\n    stb = value._render_traceback_()\nAttributeError: 'TypeError' object has no attribute '_render_traceback_'\n\nDuring handling of the above exception, another exception occurred:\n\nTraceback (most recent call last):\n  File \"/Users/timluo1/opt/anaconda3/lib/python3.7/site-packages/IPython/core/ultratb.py\", line 1148, in get_records\n    return _fixed_getinnerframes(etb, number_of_lines_of_context, tb_offset)\n  File \"/Users/timluo1/opt/anaconda3/lib/python3.7/site-packages/IPython/core/ultratb.py\", line 316, in wrapped\n    return f(*args, **kwargs)\n  File \"/Users/timluo1/opt/anaconda3/lib/python3.7/site-packages/IPython/core/ultratb.py\", line 350, in _fixed_getinnerframes\n    records = fix_frame_records_filenames(inspect.getinnerframes(etb, context))\n  File \"/Users/timluo1/opt/anaconda3/lib/python3.7/inspect.py\", line 1502, in getinnerframes\n    frameinfo = (tb.tb_frame,) + getframeinfo(tb, context)\n  File \"/Users/timluo1/opt/anaconda3/lib/python3.7/inspect.py\", line 1460, in getframeinfo\n    filename = getsourcefile(frame) or getfile(frame)\n  File \"/Users/timluo1/opt/anaconda3/lib/python3.7/inspect.py\", line 696, in getsourcefile\n    if getattr(getmodule(object, filename), '__loader__', None) is not None:\n  File \"/Users/timluo1/opt/anaconda3/lib/python3.7/inspect.py\", line 725, in getmodule\n    file = getabsfile(object, _filename)\n  File \"/Users/timluo1/opt/anaconda3/lib/python3.7/inspect.py\", line 709, in getabsfile\n    return os.path.normcase(os.path.abspath(_filename))\n  File \"/Users/timluo1/opt/anaconda3/lib/python3.7/posixpath.py\", line 383, in abspath\n    cwd = os.getcwd()\nFileNotFoundError: [Errno 2] No such file or directory\n"
    },
    {
     "output_type": "error",
     "ename": "TypeError",
     "evalue": "can only concatenate str (not \"list\") to str",
     "traceback": [
      "\u001b[0;31m---------------------------------------------------------------------------\u001b[0m",
      "\nDuring handling of the above exception, another exception occurred:\n",
      "\nDuring handling of the above exception, another exception occurred:\n",
      "\u001b[0;31mAttributeError\u001b[0m                            Traceback (most recent call last)",
      "\u001b[0;32m~/opt/anaconda3/lib/python3.7/site-packages/IPython/core/interactiveshell.py\u001b[0m in \u001b[0;36mshowtraceback\u001b[0;34m(self, exc_tuple, filename, tb_offset, exception_only, running_compiled_code)\u001b[0m\n\u001b[1;32m   2043\u001b[0m                         \u001b[0;31m# in the engines. This should return a list of strings.\u001b[0m\u001b[0;34m\u001b[0m\u001b[0;34m\u001b[0m\u001b[0;34m\u001b[0m\u001b[0m\n\u001b[0;32m-> 2044\u001b[0;31m                         \u001b[0mstb\u001b[0m \u001b[0;34m=\u001b[0m \u001b[0mvalue\u001b[0m\u001b[0;34m.\u001b[0m\u001b[0m_render_traceback_\u001b[0m\u001b[0;34m(\u001b[0m\u001b[0;34m)\u001b[0m\u001b[0;34m\u001b[0m\u001b[0;34m\u001b[0m\u001b[0m\n\u001b[0m\u001b[1;32m   2045\u001b[0m                     \u001b[0;32mexcept\u001b[0m \u001b[0mException\u001b[0m\u001b[0;34m:\u001b[0m\u001b[0;34m\u001b[0m\u001b[0;34m\u001b[0m\u001b[0m\n",
      "\u001b[0;31mAttributeError\u001b[0m: 'CatBoostError' object has no attribute '_render_traceback_'",
      "\nDuring handling of the above exception, another exception occurred:\n",
      "\u001b[0;31mTypeError\u001b[0m                                 Traceback (most recent call last)",
      "\u001b[0;32m~/opt/anaconda3/lib/python3.7/site-packages/IPython/core/interactiveshell.py\u001b[0m in \u001b[0;36mrun_code\u001b[0;34m(self, code_obj, result, async_)\u001b[0m\n\u001b[1;32m   3346\u001b[0m             \u001b[0;32mif\u001b[0m \u001b[0mresult\u001b[0m \u001b[0;32mis\u001b[0m \u001b[0;32mnot\u001b[0m \u001b[0;32mNone\u001b[0m\u001b[0;34m:\u001b[0m\u001b[0;34m\u001b[0m\u001b[0;34m\u001b[0m\u001b[0m\n\u001b[1;32m   3347\u001b[0m                 \u001b[0mresult\u001b[0m\u001b[0;34m.\u001b[0m\u001b[0merror_in_exec\u001b[0m \u001b[0;34m=\u001b[0m \u001b[0msys\u001b[0m\u001b[0;34m.\u001b[0m\u001b[0mexc_info\u001b[0m\u001b[0;34m(\u001b[0m\u001b[0;34m)\u001b[0m\u001b[0;34m[\u001b[0m\u001b[0;36m1\u001b[0m\u001b[0;34m]\u001b[0m\u001b[0;34m\u001b[0m\u001b[0;34m\u001b[0m\u001b[0m\n\u001b[0;32m-> 3348\u001b[0;31m             \u001b[0mself\u001b[0m\u001b[0;34m.\u001b[0m\u001b[0mshowtraceback\u001b[0m\u001b[0;34m(\u001b[0m\u001b[0mrunning_compiled_code\u001b[0m\u001b[0;34m=\u001b[0m\u001b[0;32mTrue\u001b[0m\u001b[0;34m)\u001b[0m\u001b[0;34m\u001b[0m\u001b[0;34m\u001b[0m\u001b[0m\n\u001b[0m\u001b[1;32m   3349\u001b[0m         \u001b[0;32melse\u001b[0m\u001b[0;34m:\u001b[0m\u001b[0;34m\u001b[0m\u001b[0;34m\u001b[0m\u001b[0m\n\u001b[1;32m   3350\u001b[0m             \u001b[0moutflag\u001b[0m \u001b[0;34m=\u001b[0m \u001b[0;32mFalse\u001b[0m\u001b[0;34m\u001b[0m\u001b[0;34m\u001b[0m\u001b[0m\n",
      "\u001b[0;32m~/opt/anaconda3/lib/python3.7/site-packages/IPython/core/interactiveshell.py\u001b[0m in \u001b[0;36mshowtraceback\u001b[0;34m(self, exc_tuple, filename, tb_offset, exception_only, running_compiled_code)\u001b[0m\n\u001b[1;32m   2045\u001b[0m                     \u001b[0;32mexcept\u001b[0m \u001b[0mException\u001b[0m\u001b[0;34m:\u001b[0m\u001b[0;34m\u001b[0m\u001b[0;34m\u001b[0m\u001b[0m\n\u001b[1;32m   2046\u001b[0m                         stb = self.InteractiveTB.structured_traceback(etype,\n\u001b[0;32m-> 2047\u001b[0;31m                                             value, tb, tb_offset=tb_offset)\n\u001b[0m\u001b[1;32m   2048\u001b[0m \u001b[0;34m\u001b[0m\u001b[0m\n\u001b[1;32m   2049\u001b[0m                     \u001b[0mself\u001b[0m\u001b[0;34m.\u001b[0m\u001b[0m_showtraceback\u001b[0m\u001b[0;34m(\u001b[0m\u001b[0metype\u001b[0m\u001b[0;34m,\u001b[0m \u001b[0mvalue\u001b[0m\u001b[0;34m,\u001b[0m \u001b[0mstb\u001b[0m\u001b[0;34m)\u001b[0m\u001b[0;34m\u001b[0m\u001b[0;34m\u001b[0m\u001b[0m\n",
      "\u001b[0;32m~/opt/anaconda3/lib/python3.7/site-packages/IPython/core/ultratb.py\u001b[0m in \u001b[0;36mstructured_traceback\u001b[0;34m(self, etype, value, tb, tb_offset, number_of_lines_of_context)\u001b[0m\n\u001b[1;32m   1413\u001b[0m             \u001b[0mself\u001b[0m\u001b[0;34m.\u001b[0m\u001b[0mtb\u001b[0m \u001b[0;34m=\u001b[0m \u001b[0mtb\u001b[0m\u001b[0;34m\u001b[0m\u001b[0;34m\u001b[0m\u001b[0m\n\u001b[1;32m   1414\u001b[0m         return FormattedTB.structured_traceback(\n\u001b[0;32m-> 1415\u001b[0;31m             self, etype, value, tb, tb_offset, number_of_lines_of_context)\n\u001b[0m\u001b[1;32m   1416\u001b[0m \u001b[0;34m\u001b[0m\u001b[0m\n\u001b[1;32m   1417\u001b[0m \u001b[0;34m\u001b[0m\u001b[0m\n",
      "\u001b[0;32m~/opt/anaconda3/lib/python3.7/site-packages/IPython/core/ultratb.py\u001b[0m in \u001b[0;36mstructured_traceback\u001b[0;34m(self, etype, value, tb, tb_offset, number_of_lines_of_context)\u001b[0m\n\u001b[1;32m   1313\u001b[0m             \u001b[0;31m# Verbose modes need a full traceback\u001b[0m\u001b[0;34m\u001b[0m\u001b[0;34m\u001b[0m\u001b[0;34m\u001b[0m\u001b[0m\n\u001b[1;32m   1314\u001b[0m             return VerboseTB.structured_traceback(\n\u001b[0;32m-> 1315\u001b[0;31m                 \u001b[0mself\u001b[0m\u001b[0;34m,\u001b[0m \u001b[0metype\u001b[0m\u001b[0;34m,\u001b[0m \u001b[0mvalue\u001b[0m\u001b[0;34m,\u001b[0m \u001b[0mtb\u001b[0m\u001b[0;34m,\u001b[0m \u001b[0mtb_offset\u001b[0m\u001b[0;34m,\u001b[0m \u001b[0mnumber_of_lines_of_context\u001b[0m\u001b[0;34m\u001b[0m\u001b[0;34m\u001b[0m\u001b[0m\n\u001b[0m\u001b[1;32m   1316\u001b[0m             )\n\u001b[1;32m   1317\u001b[0m         \u001b[0;32melif\u001b[0m \u001b[0mmode\u001b[0m \u001b[0;34m==\u001b[0m \u001b[0;34m'Minimal'\u001b[0m\u001b[0;34m:\u001b[0m\u001b[0;34m\u001b[0m\u001b[0;34m\u001b[0m\u001b[0m\n",
      "\u001b[0;32m~/opt/anaconda3/lib/python3.7/site-packages/IPython/core/ultratb.py\u001b[0m in \u001b[0;36mstructured_traceback\u001b[0;34m(self, etype, evalue, etb, tb_offset, number_of_lines_of_context)\u001b[0m\n\u001b[1;32m   1181\u001b[0m         \u001b[0mexception\u001b[0m \u001b[0;34m=\u001b[0m \u001b[0mself\u001b[0m\u001b[0;34m.\u001b[0m\u001b[0mget_parts_of_chained_exception\u001b[0m\u001b[0;34m(\u001b[0m\u001b[0mevalue\u001b[0m\u001b[0;34m)\u001b[0m\u001b[0;34m\u001b[0m\u001b[0;34m\u001b[0m\u001b[0m\n\u001b[1;32m   1182\u001b[0m         \u001b[0;32mif\u001b[0m \u001b[0mexception\u001b[0m\u001b[0;34m:\u001b[0m\u001b[0;34m\u001b[0m\u001b[0;34m\u001b[0m\u001b[0m\n\u001b[0;32m-> 1183\u001b[0;31m             \u001b[0mformatted_exceptions\u001b[0m \u001b[0;34m+=\u001b[0m \u001b[0mself\u001b[0m\u001b[0;34m.\u001b[0m\u001b[0mprepare_chained_exception_message\u001b[0m\u001b[0;34m(\u001b[0m\u001b[0mevalue\u001b[0m\u001b[0;34m.\u001b[0m\u001b[0m__cause__\u001b[0m\u001b[0;34m)\u001b[0m\u001b[0;34m\u001b[0m\u001b[0;34m\u001b[0m\u001b[0m\n\u001b[0m\u001b[1;32m   1184\u001b[0m             \u001b[0metype\u001b[0m\u001b[0;34m,\u001b[0m \u001b[0mevalue\u001b[0m\u001b[0;34m,\u001b[0m \u001b[0metb\u001b[0m \u001b[0;34m=\u001b[0m \u001b[0mexception\u001b[0m\u001b[0;34m\u001b[0m\u001b[0;34m\u001b[0m\u001b[0m\n\u001b[1;32m   1185\u001b[0m         \u001b[0;32melse\u001b[0m\u001b[0;34m:\u001b[0m\u001b[0;34m\u001b[0m\u001b[0;34m\u001b[0m\u001b[0m\n",
      "\u001b[0;31mTypeError\u001b[0m: can only concatenate str (not \"list\") to str"
     ]
    }
   ],
   "source": [
    "# CatBoost\n",
    "cat_boost = CatBoostRegressor(iterations=7, learning_rate=0.01, depth=2)\n",
    "cat_boost.fit(X_tr, y_tr)"
   ]
  },
  {
   "cell_type": "code",
   "execution_count": null,
   "metadata": {},
   "outputs": [],
   "source": []
  }
 ],
 "metadata": {
  "language_info": {
   "codemirror_mode": {
    "name": "ipython",
    "version": 3
   },
   "file_extension": ".py",
   "mimetype": "text/x-python",
   "name": "python",
   "nbconvert_exporter": "python",
   "pygments_lexer": "ipython3",
   "version": "3.7.7-final"
  },
  "orig_nbformat": 2,
  "kernelspec": {
   "name": "python3",
   "display_name": "Python 3"
  }
 },
 "nbformat": 4,
 "nbformat_minor": 2
}