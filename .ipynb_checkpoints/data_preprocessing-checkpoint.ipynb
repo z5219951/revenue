{
 "cells": [
  {
   "cell_type": "markdown",
   "metadata": {},
   "source": [
    "# 2020 T2 COMP9417 Group Project"
   ]
  },
  {
   "cell_type": "markdown",
   "metadata": {},
   "source": [
    "## Group Member  \n",
    "* Shu Yang (z5172181)  \n",
    "* Yue Qi (z5219951)  \n",
    "* Tim Luo  \n",
    "* Yixiao Zhan (z5210796)\n"
   ]
  },
  {
   "cell_type": "markdown",
   "metadata": {},
   "source": [
    "## Topic Overview\n",
    "In a world… where movies made an estimated $41.7 billion in 2018, the film industry is more popular than ever. But what movies make the most money at the box office? How much does a director matter? Or the budget? For some movies, it's \"You had me at 'Hello.'\" For others, the trailer falls short of expectations and you think \"What we have here is a failure to communicate.\"\n",
    "\n",
    "In this competition, you're presented with metadata on over 7,000 past films from The Movie Database to try and predict their overall worldwide box office revenue. Data points provided include cast, crew, plot keywords, budget, posters, release dates, languages, production companies, and countries. You can collect other publicly available data to use in your model predictions, but in the spirit of this competition, use only data that would have been available before a movie's release.\n",
    "\n",
    "A link to this Kaggle competition is provided below \n",
    "> https://www.kaggle.com/c/tmdb-box-office-prediction/overview"
   ]
  },
  {
   "cell_type": "markdown",
   "metadata": {},
   "source": [
    "## Date pre-processing \n",
    "Import the relevant packages we'll need for this project."
   ]
  },
  {
   "cell_type": "code",
   "execution_count": null,
   "metadata": {},
   "outputs": [],
   "source": [
    "import numpy as np\n",
    "import pandas as pd \n",
    "import matplotlib.pyplot as plt\n",
    "from sklearn.linear_model import LinearRegression\n",
    "from sklearn.model_selection import train_test_split, cross_val_score\n",
    "from sklearn.metrics import mean_squared_error, accuracy_score\n",
    "from sklearn.ensemble import RandomForestRegressor\n",
    "from sklearn import preprocessing\n",
    "from sklearn.feature_extraction import DictVectorizer\n",
    "import json\n",
    "import ast\n",
    "import math"
   ]
  },
  {
   "cell_type": "markdown",
   "metadata": {},
   "source": [
    "Read in training and test data  \n"
   ]
  },
  {
   "cell_type": "code",
   "execution_count": null,
   "metadata": {},
   "outputs": [],
   "source": [
    "train = pd.read_csv(\"./Data/train.csv\")\n",
    "test = pd.read_csv(\"./Data/test.csv\")"
   ]
  },
  {
   "cell_type": "markdown",
   "metadata": {},
   "source": [
    "### Yue's part\n",
    "Yue is working on data pre-processing for columns from id to production company"
   ]
  },
  {
   "cell_type": "code",
   "execution_count": null,
   "metadata": {},
   "outputs": [],
   "source": [
    "# Add your code here"
   ]
  },
  {
   "cell_type": "markdown",
   "metadata": {},
   "source": [
    "### Yixiao's part\n",
    "Yixiao is working on data pre-processing for columns from production country to production company keywords"
   ]
  },
  {
   "cell_type": "code",
   "execution_count": null,
   "metadata": {
    "tags": []
   },
   "outputs": [],
   "source": [
    "# Release date data preprocessing\n",
    "# Split release month, day, year into sepearte columns\n",
    "train[[\"release_month\",\"release_day\",\"release_year\"]] = train[\"release_date\"].str.split(\"/\",expand=True).replace(np.nan, -1).astype(int)\n",
    "# Change release year to 4 digits year\n",
    "train.loc[ (train['release_year'] <= 19) & (train['release_year'] < 100), \"release_year\"] += 2000\n",
    "train.loc[ (train['release_year'] > 19)  & (train['release_year'] < 100), \"release_year\"] += 1900\n",
    "release_date = pd.to_datetime(train[\"release_date\"])\n",
    "# Add the derived release weekday name to train\n",
    "train[\"release_dayofweek\"] = release_date.dt.weekday_name"
   ]
  },
  {
   "cell_type": "code",
   "execution_count": null,
   "metadata": {},
   "outputs": [],
   "source": [
    "# Encode release_dayofweek\n",
    "encoder = preprocessing.LabelBinarizer()\n",
    "release_dayofweek_transformed = encoder.fit_transform(train[\"release_dayofweek\"])\n",
    "release_dayofweek = pd.DataFrame(release_dayofweek_transformed)\n",
    "# Add to train dataframe\n",
    "train = pd.concat([train,release_dayofweek], axis=1)\n",
    "\n",
    "# Rename column name for easier use\n",
    "train.rename(columns={0 : \"released_on_\" + str(encoder.classes_[0]), 1 : \"released_on_\" + str(encoder.classes_[1]), 2 : \"released_on_\" + str(encoder.classes_[2]),3 : \"released_on_\" + str(encoder.classes_[3]),4 : \"released_on_\" + str(encoder.classes_[4]),5 : \"released_on_\" + str(encoder.classes_[5]),6 : \"released_on_\" + str(encoder.classes_[6])},inplace=True)\n",
    "\n",
    "release_month_transformed = encoder.fit_transform(train[\"release_month\"])\n",
    "release_month = pd.DataFrame(release_month_transformed)\n",
    "# Add to train dataframe\n",
    "train = pd.concat([train,release_month], axis=1)\n",
    "\n",
    "# Rename column name for easier use\n",
    "train.rename(columns={0 : \"released_on_\" + \"Jan\", 1 : \"released_on_\" + \"Feb\", 2 : \"released_on_\" + \"Mar\",3 : \"released_on_\" + \"Apr\",4 : \"released_on_\" + \"May\",5 : \"released_on_\" + \"Jun\",6 : \"released_on_\" + \"Jul\",7 : \"released_on_\" + \"Aug\", 8 : \"released_on_\" + \"Sep\", 9 : \"released_on_\" + \"Oct\",10 : \"released_on_\" + \"Nov\",11 : \"released_on_\" + \"Dec\"},inplace=True)"
   ]
  },
  {
   "cell_type": "markdown",
   "metadata": {},
   "source": [
    "### Tim's part\n",
    "Tim is working on data-preprocessing for column cast"
   ]
  },
  {
   "cell_type": "code",
   "execution_count": null,
   "metadata": {},
   "outputs": [],
   "source": [
    "# Add your code here"
   ]
  },
  {
   "cell_type": "markdown",
   "metadata": {},
   "source": [
    "### Shu's part\n",
    "Shu is working on data-preprocessing for column crew"
   ]
  },
  {
   "cell_type": "code",
   "execution_count": null,
   "metadata": {},
   "outputs": [],
   "source": [
    "# Add your code here"
   ]
  },
  {
   "cell_type": "markdown",
   "metadata": {},
   "source": [
    "## Check correlations"
   ]
  },
  {
   "cell_type": "code",
   "execution_count": null,
   "metadata": {},
   "outputs": [],
   "source": [
    "# Looking for correlations\n",
    "corr_matrix = train.corr()\n",
    "corr_matrix[\"revenue\"].sort_values(ascending=False)\n"
   ]
  },
  {
   "cell_type": "markdown",
   "metadata": {},
   "source": [
    "## Evaluation"
   ]
  },
  {
   "cell_type": "code",
   "execution_count": null,
   "metadata": {},
   "outputs": [],
   "source": [
    "# X = \n",
    "y = train[\"revenue\"]\n",
    "\n",
    "# Normalize the data\n",
    "min_max_scalar = preprocessing.MinMaxScaler()\n",
    "X = min_max_scalar.fit_transform(X)\n",
    "X_train, X_test, y_train, y_test = train_test_split(X,y,test_size=0.1)\n",
    "\n",
    "# Select model and fit\n",
    "# model = LinearRegression()\n",
    "model.fit(X_train,y_train)\n",
    "y_pred = model.predict(X_test)\n",
    "\n",
    "# Calculate RMSE\n",
    "RMSE = math.sqrt(mean_squared_error(y_test,y_pred))\n",
    "print(\"RMSE = \" + str(round(RMSE,2)))"
   ]
  }
 ],
 "metadata": {
  "kernelspec": {
   "display_name": "Python 3",
   "language": "python",
   "name": "python3"
  },
  "language_info": {
   "codemirror_mode": {
    "name": "ipython",
    "version": 3
   },
   "file_extension": ".py",
   "mimetype": "text/x-python",
   "name": "python",
   "nbconvert_exporter": "python",
   "pygments_lexer": "ipython3",
   "version": "3.7.3"
  }
 },
 "nbformat": 4,
 "nbformat_minor": 2
}
