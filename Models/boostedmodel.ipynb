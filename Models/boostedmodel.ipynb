{
 "cells": [
  {
   "cell_type": "markdown",
   "metadata": {},
   "source": [
    "This model looks at catboosted decision tree, random forest, linear regression"
   ]
  },
  {
   "cell_type": "code",
   "execution_count": 23,
   "metadata": {},
   "outputs": [],
   "source": [
    "from catboost import CatBoostRegressor\n",
    "from sklearn.metrics import mean_squared_error\n",
    "from sklearn.model_selection import KFold\n",
    "import pandas as pd\n",
    "import numpy as np"
   ]
  },
  {
   "cell_type": "code",
   "execution_count": null,
   "metadata": {},
   "outputs": [],
   "source": [
    "# Helper functions\n",
    "\n",
    "def get_loss(predicted, actual):\n",
    "    loss = mean_squared_error(prediceted, actual)\n",
    "    return np.sqrt(loss)\n",
    "\n",
    "def kfold_validate(X, y, te, model, col):\n",
    "        scores = np.zeros(k)\n",
    "    for i, (tr_idx, val_idx) in enumerate(cv.split(X)):\n",
    "        X_tr, y_tr = X.iloc[tr_idx, :], y[tr_idx]\n",
    "        X_val, y_val = X.iloc[val_idx, :], y[val_idx]\n",
    "\n",
    "        model.fit(X_tr, y_tr)\n",
    "        pred_val = model.predict(X_val)\n",
    "        scores[i] = get_loss(pred_val, y_val)\n",
    "        print(\"========={}-th Fold Score: {}\".format(i, scores[i]))\n",
    "        \n",
    "        meta_tr[col][val_idx] = pred_val\n",
    "        meta_tr['val'][val_idx] = y_val\n",
    "\n",
    "    print(\"=========Total Score: \", np.mean(scores))\n",
    "    model.fit(X, y)\n",
    "    meta_te[col] = model.predict(te)"
   ]
  },
  {
   "cell_type": "code",
   "execution_count": 14,
   "metadata": {
    "tags": []
   },
   "outputs": [
    {
     "output_type": "stream",
     "name": "stdout",
     "text": "Training set  (3000, 23)\nTest set  (4398, 22)\n=======NAs in train set\n belongs_to_collection    2396\ngenres                      7\nhomepage                 2054\noverview                    8\nposter_path                 1\nproduction_companies      156\nproduction_countries       55\nruntime                     2\nspoken_languages           20\ntagline                   597\nKeywords                  276\ncast                       13\ncrew                       16\ndtype: int64\n=======NAs in test set\n belongs_to_collection    3521\ngenres                     16\nhomepage                 2978\noverview                   14\nposter_path                 1\nproduction_companies      258\nproduction_countries      102\nrelease_date                1\nruntime                     4\nspoken_languages           42\nstatus                      2\ntagline                   863\ntitle                       3\nKeywords                  393\ncast                       13\ncrew                       22\ndtype: int64\n"
    }
   ],
   "source": [
    "# Load data\n",
    "train = pd.read_csv('../Data/train.csv')\n",
    "test = pd.read_csv('../Data/test.csv')\n",
    "\n",
    "# Check data\n",
    "print(\"Training set \", train.shape)\n",
    "print(\"Test set \", test.shape)\n",
    "\n",
    "print(\"NAs in train set\\n\", train.isnull().sum()[train.isnull().sum() != 0])\n",
    "print(\"NAs in test set\\n\", test.isnull().sum()[test.isnull().sum() != 0])"
   ]
  },
  {
   "cell_type": "code",
   "execution_count": 15,
   "metadata": {},
   "outputs": [],
   "source": [
    "# Fill remaining NA's with -1\n",
    "train.fillna(-1, inplace = True)\n",
    "test.fillna(-1, inplace = True)"
   ]
  },
  {
   "cell_type": "code",
   "execution_count": 21,
   "metadata": {},
   "outputs": [
    {
     "output_type": "execute_result",
     "data": {
      "text/plain": "                id        budget   popularity      runtime       revenue\ncount  3000.000000  3.000000e+03  3000.000000  3000.000000  3.000000e+03\nmean   1500.500000  2.253133e+07     8.463274   107.784000  6.672585e+07\nstd     866.169729  3.702609e+07    12.104000    22.257189  1.375323e+08\nmin       1.000000  0.000000e+00     0.000001    -1.000000  1.000000e+00\n25%     750.750000  0.000000e+00     4.018053    94.000000  2.379808e+06\n50%    1500.500000  8.000000e+06     7.374861   104.000000  1.680707e+07\n75%    2250.250000  2.900000e+07    10.890983   118.000000  6.891920e+07\nmax    3000.000000  3.800000e+08   294.337037   338.000000  1.519558e+09",
      "text/html": "<div>\n<style scoped>\n    .dataframe tbody tr th:only-of-type {\n        vertical-align: middle;\n    }\n\n    .dataframe tbody tr th {\n        vertical-align: top;\n    }\n\n    .dataframe thead th {\n        text-align: right;\n    }\n</style>\n<table border=\"1\" class=\"dataframe\">\n  <thead>\n    <tr style=\"text-align: right;\">\n      <th></th>\n      <th>id</th>\n      <th>budget</th>\n      <th>popularity</th>\n      <th>runtime</th>\n      <th>revenue</th>\n    </tr>\n  </thead>\n  <tbody>\n    <tr>\n      <th>count</th>\n      <td>3000.000000</td>\n      <td>3.000000e+03</td>\n      <td>3000.000000</td>\n      <td>3000.000000</td>\n      <td>3.000000e+03</td>\n    </tr>\n    <tr>\n      <th>mean</th>\n      <td>1500.500000</td>\n      <td>2.253133e+07</td>\n      <td>8.463274</td>\n      <td>107.784000</td>\n      <td>6.672585e+07</td>\n    </tr>\n    <tr>\n      <th>std</th>\n      <td>866.169729</td>\n      <td>3.702609e+07</td>\n      <td>12.104000</td>\n      <td>22.257189</td>\n      <td>1.375323e+08</td>\n    </tr>\n    <tr>\n      <th>min</th>\n      <td>1.000000</td>\n      <td>0.000000e+00</td>\n      <td>0.000001</td>\n      <td>-1.000000</td>\n      <td>1.000000e+00</td>\n    </tr>\n    <tr>\n      <th>25%</th>\n      <td>750.750000</td>\n      <td>0.000000e+00</td>\n      <td>4.018053</td>\n      <td>94.000000</td>\n      <td>2.379808e+06</td>\n    </tr>\n    <tr>\n      <th>50%</th>\n      <td>1500.500000</td>\n      <td>8.000000e+06</td>\n      <td>7.374861</td>\n      <td>104.000000</td>\n      <td>1.680707e+07</td>\n    </tr>\n    <tr>\n      <th>75%</th>\n      <td>2250.250000</td>\n      <td>2.900000e+07</td>\n      <td>10.890983</td>\n      <td>118.000000</td>\n      <td>6.891920e+07</td>\n    </tr>\n    <tr>\n      <th>max</th>\n      <td>3000.000000</td>\n      <td>3.800000e+08</td>\n      <td>294.337037</td>\n      <td>338.000000</td>\n      <td>1.519558e+09</td>\n    </tr>\n  </tbody>\n</table>\n</div>"
     },
     "metadata": {},
     "execution_count": 21
    }
   ],
   "source": [
    "train.iloc[:, :45].describe()\n",
    "# test.iloc[:, :45].describe()"
   ]
  },
  {
   "cell_type": "code",
   "execution_count": 22,
   "metadata": {
    "tags": []
   },
   "outputs": [],
   "source": [
    "y = train.revenue\n",
    "X = train.drop('revenue', axis=1)"
   ]
  },
  {
   "cell_type": "code",
   "execution_count": null,
   "metadata": {},
   "outputs": [],
   "source": [
    "# Cross Validation\n",
    "k = 10\n",
    "seed = 10\n",
    "cross_validation = KFold(n_splits=k, shuffle=True, random_state=seed)"
   ]
  },
  {
   "cell_type": "code",
   "execution_count": null,
   "metadata": {},
   "outputs": [],
   "source": [
    "# CatBoost\n",
    "cat_boost = CatBoostRegressor(bagging_temperature=0.3, colsample_bylevel=0.7, depth=7, early_stopping_rounds=500, eval_metric='RMSE', iterations=1000, learning_rate=0.01, logging_level='Silent')\n",
    "cat_boost.fit()"
   ]
  }
 ],
 "metadata": {
  "language_info": {
   "codemirror_mode": {
    "name": "ipython",
    "version": 3
   },
   "file_extension": ".py",
   "mimetype": "text/x-python",
   "name": "python",
   "nbconvert_exporter": "python",
   "pygments_lexer": "ipython3",
   "version": "3.7.7-final"
  },
  "orig_nbformat": 2,
  "kernelspec": {
   "name": "python3",
   "display_name": "Python 3"
  }
 },
 "nbformat": 4,
 "nbformat_minor": 2
}