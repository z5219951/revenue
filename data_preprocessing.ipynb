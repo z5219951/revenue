{
 "cells": [
  {
   "cell_type": "markdown",
   "metadata": {},
   "source": [
    "# 2020 T2 COMP9417 Group Project"
   ]
  },
  {
   "cell_type": "markdown",
   "metadata": {},
   "source": [
    "## Group Member  \n",
    "* Shu Yang (z5172181)  \n",
    "* Yue Qi (z5219951)  \n",
    "* Tim Luo (z5115679) \n",
    "* Yixiao Zhan (z5210796)\n"
   ]
  },
  {
   "cell_type": "markdown",
   "metadata": {},
   "source": [
    "## Topic Overview\n",
    "In a world… where movies made an estimated $41.7 billion in 2018, the film industry is more popular than ever. But what movies make the most money at the box office? How much does a director matter? Or the budget? For some movies, it's \"You had me at 'Hello.'\" For others, the trailer falls short of expectations and you think \"What we have here is a failure to communicate.\"\n",
    "\n",
    "In this competition, you're presented with metadata on over 7,000 past films from The Movie Database to try and predict their overall worldwide box office revenue. Data points provided include cast, crew, plot keywords, budget, posters, release dates, languages, production companies, and countries. You can collect other publicly available data to use in your model predictions, but in the spirit of this competition, use only data that would have been available before a movie's release.\n",
    "\n",
    "A link to this Kaggle competition is provided below \n",
    "> https://www.kaggle.com/c/tmdb-box-office-prediction/overview"
   ]
  },
  {
   "cell_type": "markdown",
   "metadata": {},
   "source": [
    "## Date pre-processing \n",
    "Import the relevant packages we'll need for this project."
   ]
  },
  {
   "cell_type": "code",
   "execution_count": 1,
   "metadata": {},
   "outputs": [],
   "source": [
    "import numpy as np\n",
    "import pandas as pd \n",
    "import matplotlib.pyplot as plt\n",
    "from sklearn.linear_model import LinearRegression\n",
    "from sklearn.model_selection import train_test_split, cross_val_score, KFold\n",
    "from sklearn.metrics import mean_squared_error, accuracy_score\n",
    "from sklearn.ensemble import RandomForestRegressor\n",
    "from sklearn import preprocessing\n",
    "from sklearn.feature_extraction import DictVectorizer\n",
    "import json\n",
    "import ast\n",
    "import math\n",
    "from collections import Counter\n",
    "from ast import literal_eval\n",
    "import seaborn as sns\n",
    "from sklearn.preprocessing import LabelEncoder\n",
    "from sklearn.feature_extraction.text import TfidfVectorizer\n",
    "from sklearn import linear_model"
   ]
  },
  {
   "cell_type": "markdown",
   "metadata": {},
   "source": [
    "Read in training and test data  \n"
   ]
  },
  {
   "cell_type": "code",
   "execution_count": 2,
   "metadata": {},
   "outputs": [],
   "source": [
    "train = pd.read_csv(\"./Data/train.csv\")\n",
    "test = pd.read_csv(\"./Data/test.csv\")"
   ]
  },
  {
   "cell_type": "markdown",
   "metadata": {},
   "source": [
    "### Yue's part\n",
    "Yue is working on data pre-processing for columns from id to production company"
   ]
  },
  {
   "cell_type": "code",
   "execution_count": 3,
   "metadata": {},
   "outputs": [],
   "source": [
    "# setting some global value\n",
    "drop_list_Yue = []"
   ]
  },
  {
   "cell_type": "markdown",
   "metadata": {},
   "source": [
    "### Need to fill in some missing values for budget and revenue as these are important features"
   ]
  },
  {
   "cell_type": "code",
   "execution_count": 4,
   "metadata": {},
   "outputs": [],
   "source": [
    "# Add in missing values for budget and revenue\n",
    "# Referencing: https://www.kaggle.com/kamalchhirang/tmdb-box-office-prediction-more-training-data\n",
    "# Training Set\n",
    "train.loc[train['id'] == 16,'revenue'] = 192864          # Skinning\n",
    "train.loc[train['id'] == 90,'budget'] = 30000000         # Sommersby\n",
    "train.loc[train['id'] == 118,'budget'] = 60000000        # Wild Hogs\n",
    "train.loc[train['id'] == 149,'budget'] = 18000000        # Beethoven\n",
    "train.loc[train['id'] == 313,'revenue'] = 12000000       # The Cookout\n",
    "train.loc[train['id'] == 451,'revenue'] = 12000000       # Chasing Liberty\n",
    "train.loc[train['id'] == 464,'budget'] = 20000000        # Parenthood\n",
    "train.loc[train['id'] == 470,'budget'] = 13000000        # The Karate Kid, Part II\n",
    "train.loc[train['id'] == 513,'budget'] = 930000          # From Prada to Nada\n",
    "train.loc[train['id'] == 797,'budget'] = 8000000         # Welcome to Dongmakgol\n",
    "train.loc[train['id'] == 819,'budget'] = 90000000        # Alvin and the Chipmunks: The Road Chip\n",
    "train.loc[train['id'] == 850,'budget'] = 90000000        # Modern Times\n",
    "train.loc[train['id'] == 1007,'budget'] = 2              # Zyzzyx Road\n",
    "train.loc[train['id'] == 1112,'budget'] = 7500000        # An Officer and a Gentleman\n",
    "train.loc[train['id'] == 1131,'budget'] = 4300000        # Smokey and the Bandit\n",
    "train.loc[train['id'] == 1359,'budget'] = 10000000       # Stir Crazy\n",
    "train.loc[train['id'] == 1542,'budget'] = 1              # All at Once\n",
    "train.loc[train['id'] == 1570,'budget'] = 15800000       # Crocodile Dundee II\n",
    "train.loc[train['id'] == 1571,'budget'] = 4000000        # Lady and the Tramp\n",
    "train.loc[train['id'] == 1714,'budget'] = 46000000       # The Recruit\n",
    "train.loc[train['id'] == 1721,'budget'] = 17500000       # Cocoon\n",
    "train.loc[train['id'] == 1865,'revenue'] = 25000000      # Scooby-Doo 2: Monsters Unleashed\n",
    "train.loc[train['id'] == 1885,'budget'] = 12             # In the Cut\n",
    "train.loc[train['id'] == 2091,'budget'] = 10             # Deadfall\n",
    "train.loc[train['id'] == 2268,'budget'] = 17500000       # Madea Goes to Jail budget\n",
    "train.loc[train['id'] == 2491,'budget'] = 6              # Never Talk to Strangers\n",
    "train.loc[train['id'] == 2602,'budget'] = 31000000       # Mr. Holland's Opus\n",
    "train.loc[train['id'] == 2612,'budget'] = 15000000       # Field of Dreams\n",
    "train.loc[train['id'] == 2696,'budget'] = 10000000       # Nurse 3-D\n",
    "train.loc[train['id'] == 2801,'budget'] = 10000000       # Fracture\n",
    "train.loc[train['id'] == 335,'budget'] = 2\n",
    "train.loc[train['id'] == 348,'budget'] = 12\n",
    "train.loc[train['id'] == 470,'budget'] = 13000000\n",
    "train.loc[train['id'] == 513,'budget'] = 1100000\n",
    "train.loc[train['id'] == 640,'budget'] = 6\n",
    "train.loc[train['id'] == 696,'budget'] = 1\n",
    "train.loc[train['id'] == 797,'budget'] = 8000000\n",
    "train.loc[train['id'] == 850,'budget'] = 1500000\n",
    "train.loc[train['id'] == 1199,'budget'] = 5\n",
    "train.loc[train['id'] == 1282,'budget'] = 9              # Death at a Funeral\n",
    "train.loc[train['id'] == 1347,'budget'] = 1\n",
    "train.loc[train['id'] == 1755,'budget'] = 2\n",
    "train.loc[train['id'] == 1801,'budget'] = 5\n",
    "train.loc[train['id'] == 1918,'budget'] = 592\n",
    "train.loc[train['id'] == 2033,'budget'] = 4\n",
    "train.loc[train['id'] == 2118,'budget'] = 344\n",
    "train.loc[train['id'] == 2252,'budget'] = 130\n",
    "train.loc[train['id'] == 2256,'budget'] = 1\n",
    "train.loc[train['id'] == 2696,'budget'] = 10000000\n",
    "\n",
    "# Test Set\n",
    "test.loc[test['id'] == 6733,'budget'] = 5000000\n",
    "test.loc[test['id'] == 3889,'budget'] = 15000000\n",
    "test.loc[test['id'] == 6683,'budget'] = 50000000\n",
    "test.loc[test['id'] == 5704,'budget'] = 4300000\n",
    "test.loc[test['id'] == 6109,'budget'] = 281756\n",
    "test.loc[test['id'] == 7242,'budget'] = 10000000\n",
    "test.loc[test['id'] == 7021,'budget'] = 17540562       #  Two Is a Family\n",
    "test.loc[test['id'] == 5591,'budget'] = 4000000        # The Orphanage\n",
    "test.loc[test['id'] == 4282,'budget'] = 20000000       # Big Top Pee-wee\n",
    "test.loc[test['id'] == 3033,'budget'] = 250\n",
    "test.loc[test['id'] == 3051,'budget'] = 50\n",
    "test.loc[test['id'] == 3084,'budget'] = 337\n",
    "test.loc[test['id'] == 3224,'budget'] = 4\n",
    "test.loc[test['id'] == 3594,'budget'] = 25\n",
    "test.loc[test['id'] == 3619,'budget'] = 500\n",
    "test.loc[test['id'] == 3831,'budget'] = 3\n",
    "test.loc[test['id'] == 3935,'budget'] = 500\n",
    "test.loc[test['id'] == 4049,'budget'] = 995946\n",
    "test.loc[test['id'] == 4424,'budget'] = 3\n",
    "test.loc[test['id'] == 4460,'budget'] = 8\n",
    "test.loc[test['id'] == 4555,'budget'] = 1200000\n",
    "test.loc[test['id'] == 4624,'budget'] = 30\n",
    "test.loc[test['id'] == 4645,'budget'] = 500\n",
    "test.loc[test['id'] == 4709,'budget'] = 450\n",
    "test.loc[test['id'] == 4839,'budget'] = 7\n",
    "test.loc[test['id'] == 3125,'budget'] = 25\n",
    "test.loc[test['id'] == 3142,'budget'] = 1\n",
    "test.loc[test['id'] == 3201,'budget'] = 450\n",
    "test.loc[test['id'] == 3222,'budget'] = 6\n",
    "test.loc[test['id'] == 3545,'budget'] = 38\n",
    "test.loc[test['id'] == 3670,'budget'] = 18\n",
    "test.loc[test['id'] == 3792,'budget'] = 19\n",
    "test.loc[test['id'] == 3881,'budget'] = 7\n",
    "test.loc[test['id'] == 3969,'budget'] = 400\n",
    "test.loc[test['id'] == 4196,'budget'] = 6\n",
    "test.loc[test['id'] == 4221,'budget'] = 11\n",
    "test.loc[test['id'] == 4222,'budget'] = 500\n",
    "test.loc[test['id'] == 4285,'budget'] = 11\n",
    "test.loc[test['id'] == 4319,'budget'] = 1\n",
    "test.loc[test['id'] == 4639,'budget'] = 10\n",
    "test.loc[test['id'] == 4719,'budget'] = 45\n",
    "test.loc[test['id'] == 4822,'budget'] = 22\n",
    "test.loc[test['id'] == 4829,'budget'] = 20\n",
    "test.loc[test['id'] == 4969,'budget'] = 20\n",
    "test.loc[test['id'] == 5021,'budget'] = 40\n",
    "test.loc[test['id'] == 5035,'budget'] = 1\n",
    "test.loc[test['id'] == 5063,'budget'] = 14\n",
    "test.loc[test['id'] == 5119,'budget'] = 2\n",
    "test.loc[test['id'] == 5214,'budget'] = 30\n",
    "test.loc[test['id'] == 5221,'budget'] = 50\n",
    "test.loc[test['id'] == 4903,'budget'] = 15\n",
    "test.loc[test['id'] == 4983,'budget'] = 3\n",
    "test.loc[test['id'] == 5102,'budget'] = 28\n",
    "test.loc[test['id'] == 5217,'budget'] = 75\n",
    "test.loc[test['id'] == 5224,'budget'] = 3\n",
    "test.loc[test['id'] == 5469,'budget'] = 20\n",
    "test.loc[test['id'] == 5840,'budget'] = 1\n",
    "test.loc[test['id'] == 5960,'budget'] = 30\n",
    "test.loc[test['id'] == 6506,'budget'] = 11\n",
    "test.loc[test['id'] == 6553,'budget'] = 280\n",
    "test.loc[test['id'] == 6561,'budget'] = 7\n",
    "test.loc[test['id'] == 6582,'budget'] = 218\n",
    "test.loc[test['id'] == 6638,'budget'] = 5\n",
    "test.loc[test['id'] == 6749,'budget'] = 8\n",
    "test.loc[test['id'] == 6759,'budget'] = 50\n",
    "test.loc[test['id'] == 6856,'budget'] = 10\n",
    "test.loc[test['id'] == 6858,'budget'] =  100\n",
    "test.loc[test['id'] == 6876,'budget'] =  250\n",
    "test.loc[test['id'] == 6972,'budget'] = 1\n",
    "test.loc[test['id'] == 7079,'budget'] = 8000000\n",
    "test.loc[test['id'] == 7150,'budget'] = 118\n",
    "test.loc[test['id'] == 6506,'budget'] = 118\n",
    "test.loc[test['id'] == 7225,'budget'] = 6\n",
    "test.loc[test['id'] == 7231,'budget'] = 85\n",
    "test.loc[test['id'] == 5222,'budget'] = 5\n",
    "test.loc[test['id'] == 5322,'budget'] = 90\n",
    "test.loc[test['id'] == 5350,'budget'] = 70\n",
    "test.loc[test['id'] == 5378,'budget'] = 10\n",
    "test.loc[test['id'] == 5545,'budget'] = 80\n",
    "test.loc[test['id'] == 5810,'budget'] = 8\n",
    "test.loc[test['id'] == 5926,'budget'] = 300\n",
    "test.loc[test['id'] == 5927,'budget'] = 4\n",
    "test.loc[test['id'] == 5986,'budget'] = 1\n",
    "test.loc[test['id'] == 6053,'budget'] = 20\n",
    "test.loc[test['id'] == 6104,'budget'] = 1\n",
    "test.loc[test['id'] == 6130,'budget'] = 30\n",
    "test.loc[test['id'] == 6301,'budget'] = 150\n",
    "test.loc[test['id'] == 6276,'budget'] = 100\n",
    "test.loc[test['id'] == 6473,'budget'] = 100\n",
    "test.loc[test['id'] == 6842,'budget'] = 30"
   ]
  },
  {
   "cell_type": "markdown",
   "metadata": {},
   "source": [
    "#### collection\n",
    "Relationship between revenue and collection.\n",
    "Movies with collection have more revenue"
   ]
  },
  {
   "cell_type": "code",
   "execution_count": 5,
   "metadata": {},
   "outputs": [
    {
     "name": "stderr",
     "output_type": "stream",
     "text": [
      "/Users/shuyang/anaconda3/lib/python3.7/site-packages/scipy/stats/stats.py:1713: FutureWarning: Using a non-tuple sequence for multidimensional indexing is deprecated; use `arr[tuple(seq)]` instead of `arr[seq]`. In the future this will be interpreted as an array index, `arr[np.array(seq)]`, which will result either in an error or a different result.\n",
      "  return np.add.reduce(sorted[indexer] * weights, axis=axis) / sumval\n"
     ]
    },
    {
     "data": {
      "text/plain": [
       "<matplotlib.axes._subplots.AxesSubplot at 0x104404da0>"
      ]
     },
     "execution_count": 5,
     "metadata": {},
     "output_type": "execute_result"
    },
    {
     "data": {
      "image/png": "[encoded data removed]",
      "text/plain": [
       "<Figure size 432x288 with 1 Axes>"
      ]
     },
     "metadata": {
      "needs_background": "light"
     },
     "output_type": "display_data"
    }
   ],
   "source": [
    "\n",
    "train['belongs_to_collection'].fillna(0, inplace=True)\n",
    "draw_train = train\n",
    "draw_train['newbelongs_to_collection'] = draw_train['belongs_to_collection'].apply(lambda x: literal_eval(x) if x != 0 else 0)\n",
    "draw_train['name_collection'] = draw_train['newbelongs_to_collection'].apply(lambda x: 1 if x != 0 else 0)\n",
    "sns.barplot(x='name_collection',y='revenue',data=draw_train)"
   ]
  },
  {
   "cell_type": "code",
   "execution_count": 6,
   "metadata": {},
   "outputs": [
    {
     "data": {
      "text/html": [
       "<div>\n",
       "<style scoped>\n",
       "    .dataframe tbody tr th:only-of-type {\n",
       "        vertical-align: middle;\n",
       "    }\n",
       "\n",
       "    .dataframe tbody tr th {\n",
       "        vertical-align: top;\n",
       "    }\n",
       "\n",
       "    .dataframe thead th {\n",
       "        text-align: right;\n",
       "    }\n",
       "</style>\n",
       "<table border=\"1\" class=\"dataframe\">\n",
       "  <thead>\n",
       "    <tr style=\"text-align: right;\">\n",
       "      <th></th>\n",
       "      <th>id</th>\n",
       "      <th>belongs_to_collection</th>\n",
       "      <th>budget</th>\n",
       "      <th>genres</th>\n",
       "      <th>homepage</th>\n",
       "      <th>imdb_id</th>\n",
       "      <th>original_language</th>\n",
       "      <th>original_title</th>\n",
       "      <th>overview</th>\n",
       "      <th>popularity</th>\n",
       "      <th>...</th>\n",
       "      <th>spoken_languages</th>\n",
       "      <th>status</th>\n",
       "      <th>tagline</th>\n",
       "      <th>title</th>\n",
       "      <th>Keywords</th>\n",
       "      <th>cast</th>\n",
       "      <th>crew</th>\n",
       "      <th>revenue</th>\n",
       "      <th>newbelongs_to_collection</th>\n",
       "      <th>name_collection</th>\n",
       "    </tr>\n",
       "  </thead>\n",
       "  <tbody>\n",
       "    <tr>\n",
       "      <th>0</th>\n",
       "      <td>1</td>\n",
       "      <td>[{'id': 313576, 'name': 'Hot Tub Time Machine ...</td>\n",
       "      <td>14000000</td>\n",
       "      <td>[{'id': 35, 'name': 'Comedy'}]</td>\n",
       "      <td>NaN</td>\n",
       "      <td>tt2637294</td>\n",
       "      <td>en</td>\n",
       "      <td>Hot Tub Time Machine 2</td>\n",
       "      <td>When Lou, who has become the \"father of the In...</td>\n",
       "      <td>6.575393</td>\n",
       "      <td>...</td>\n",
       "      <td>[{'iso_639_1': 'en', 'name': 'English'}]</td>\n",
       "      <td>Released</td>\n",
       "      <td>The Laws of Space and Time are About to be Vio...</td>\n",
       "      <td>Hot Tub Time Machine 2</td>\n",
       "      <td>[{'id': 4379, 'name': 'time travel'}, {'id': 9...</td>\n",
       "      <td>[{'cast_id': 4, 'character': 'Lou', 'credit_id...</td>\n",
       "      <td>[{'credit_id': '59ac067c92514107af02c8c8', 'de...</td>\n",
       "      <td>12314651</td>\n",
       "      <td>[{'id': 313576, 'name': 'Hot Tub Time Machine ...</td>\n",
       "      <td>152</td>\n",
       "    </tr>\n",
       "    <tr>\n",
       "      <th>1</th>\n",
       "      <td>2</td>\n",
       "      <td>[{'id': 107674, 'name': 'The Princess Diaries ...</td>\n",
       "      <td>40000000</td>\n",
       "      <td>[{'id': 35, 'name': 'Comedy'}, {'id': 18, 'nam...</td>\n",
       "      <td>NaN</td>\n",
       "      <td>tt0368933</td>\n",
       "      <td>en</td>\n",
       "      <td>The Princess Diaries 2: Royal Engagement</td>\n",
       "      <td>Mia Thermopolis is now a college graduate and ...</td>\n",
       "      <td>8.248895</td>\n",
       "      <td>...</td>\n",
       "      <td>[{'iso_639_1': 'en', 'name': 'English'}]</td>\n",
       "      <td>Released</td>\n",
       "      <td>It can take a lifetime to find true love; she'...</td>\n",
       "      <td>The Princess Diaries 2: Royal Engagement</td>\n",
       "      <td>[{'id': 2505, 'name': 'coronation'}, {'id': 42...</td>\n",
       "      <td>[{'cast_id': 1, 'character': 'Mia Thermopolis'...</td>\n",
       "      <td>[{'credit_id': '52fe43fe9251416c7502563d', 'de...</td>\n",
       "      <td>95149435</td>\n",
       "      <td>[{'id': 107674, 'name': 'The Princess Diaries ...</td>\n",
       "      <td>366</td>\n",
       "    </tr>\n",
       "    <tr>\n",
       "      <th>2</th>\n",
       "      <td>3</td>\n",
       "      <td>0</td>\n",
       "      <td>3300000</td>\n",
       "      <td>[{'id': 18, 'name': 'Drama'}]</td>\n",
       "      <td>http://sonyclassics.com/whiplash/</td>\n",
       "      <td>tt2582802</td>\n",
       "      <td>en</td>\n",
       "      <td>Whiplash</td>\n",
       "      <td>Under the direction of a ruthless instructor, ...</td>\n",
       "      <td>64.299990</td>\n",
       "      <td>...</td>\n",
       "      <td>[{'iso_639_1': 'en', 'name': 'English'}]</td>\n",
       "      <td>Released</td>\n",
       "      <td>The road to greatness can take you to the edge.</td>\n",
       "      <td>Whiplash</td>\n",
       "      <td>[{'id': 1416, 'name': 'jazz'}, {'id': 1523, 'n...</td>\n",
       "      <td>[{'cast_id': 5, 'character': 'Andrew Neimann',...</td>\n",
       "      <td>[{'credit_id': '54d5356ec3a3683ba0000039', 'de...</td>\n",
       "      <td>13092000</td>\n",
       "      <td>0</td>\n",
       "      <td>1</td>\n",
       "    </tr>\n",
       "    <tr>\n",
       "      <th>3</th>\n",
       "      <td>4</td>\n",
       "      <td>0</td>\n",
       "      <td>1200000</td>\n",
       "      <td>[{'id': 53, 'name': 'Thriller'}, {'id': 18, 'n...</td>\n",
       "      <td>http://kahaanithefilm.com/</td>\n",
       "      <td>tt1821480</td>\n",
       "      <td>hi</td>\n",
       "      <td>Kahaani</td>\n",
       "      <td>Vidya Bagchi (Vidya Balan) arrives in Kolkata ...</td>\n",
       "      <td>3.174936</td>\n",
       "      <td>...</td>\n",
       "      <td>[{'iso_639_1': 'en', 'name': 'English'}, {'iso...</td>\n",
       "      <td>Released</td>\n",
       "      <td>NaN</td>\n",
       "      <td>Kahaani</td>\n",
       "      <td>[{'id': 10092, 'name': 'mystery'}, {'id': 1054...</td>\n",
       "      <td>[{'cast_id': 1, 'character': 'Vidya Bagchi', '...</td>\n",
       "      <td>[{'credit_id': '52fe48779251416c9108d6eb', 'de...</td>\n",
       "      <td>16000000</td>\n",
       "      <td>0</td>\n",
       "      <td>1</td>\n",
       "    </tr>\n",
       "    <tr>\n",
       "      <th>4</th>\n",
       "      <td>5</td>\n",
       "      <td>0</td>\n",
       "      <td>0</td>\n",
       "      <td>[{'id': 28, 'name': 'Action'}, {'id': 53, 'nam...</td>\n",
       "      <td>NaN</td>\n",
       "      <td>tt1380152</td>\n",
       "      <td>ko</td>\n",
       "      <td>마린보이</td>\n",
       "      <td>Marine Boy is the story of a former national s...</td>\n",
       "      <td>1.148070</td>\n",
       "      <td>...</td>\n",
       "      <td>[{'iso_639_1': 'ko', 'name': '한국어/조선말'}]</td>\n",
       "      <td>Released</td>\n",
       "      <td>NaN</td>\n",
       "      <td>Marine Boy</td>\n",
       "      <td>NaN</td>\n",
       "      <td>[{'cast_id': 3, 'character': 'Chun-soo', 'cred...</td>\n",
       "      <td>[{'credit_id': '52fe464b9251416c75073b43', 'de...</td>\n",
       "      <td>3923970</td>\n",
       "      <td>0</td>\n",
       "      <td>1</td>\n",
       "    </tr>\n",
       "  </tbody>\n",
       "</table>\n",
       "<p>5 rows × 25 columns</p>\n",
       "</div>"
      ],
      "text/plain": [
       "   id                              belongs_to_collection    budget  \\\n",
       "0   1  [{'id': 313576, 'name': 'Hot Tub Time Machine ...  14000000   \n",
       "1   2  [{'id': 107674, 'name': 'The Princess Diaries ...  40000000   \n",
       "2   3                                                  0   3300000   \n",
       "3   4                                                  0   1200000   \n",
       "4   5                                                  0         0   \n",
       "\n",
       "                                              genres  \\\n",
       "0                     [{'id': 35, 'name': 'Comedy'}]   \n",
       "1  [{'id': 35, 'name': 'Comedy'}, {'id': 18, 'nam...   \n",
       "2                      [{'id': 18, 'name': 'Drama'}]   \n",
       "3  [{'id': 53, 'name': 'Thriller'}, {'id': 18, 'n...   \n",
       "4  [{'id': 28, 'name': 'Action'}, {'id': 53, 'nam...   \n",
       "\n",
       "                            homepage    imdb_id original_language  \\\n",
       "0                                NaN  tt2637294                en   \n",
       "1                                NaN  tt0368933                en   \n",
       "2  http://sonyclassics.com/whiplash/  tt2582802                en   \n",
       "3         http://kahaanithefilm.com/  tt1821480                hi   \n",
       "4                                NaN  tt1380152                ko   \n",
       "\n",
       "                             original_title  \\\n",
       "0                    Hot Tub Time Machine 2   \n",
       "1  The Princess Diaries 2: Royal Engagement   \n",
       "2                                  Whiplash   \n",
       "3                                   Kahaani   \n",
       "4                                      마린보이   \n",
       "\n",
       "                                            overview  popularity  \\\n",
       "0  When Lou, who has become the \"father of the In...    6.575393   \n",
       "1  Mia Thermopolis is now a college graduate and ...    8.248895   \n",
       "2  Under the direction of a ruthless instructor, ...   64.299990   \n",
       "3  Vidya Bagchi (Vidya Balan) arrives in Kolkata ...    3.174936   \n",
       "4  Marine Boy is the story of a former national s...    1.148070   \n",
       "\n",
       "        ...                                         spoken_languages  \\\n",
       "0       ...                 [{'iso_639_1': 'en', 'name': 'English'}]   \n",
       "1       ...                 [{'iso_639_1': 'en', 'name': 'English'}]   \n",
       "2       ...                 [{'iso_639_1': 'en', 'name': 'English'}]   \n",
       "3       ...        [{'iso_639_1': 'en', 'name': 'English'}, {'iso...   \n",
       "4       ...                 [{'iso_639_1': 'ko', 'name': '한국어/조선말'}]   \n",
       "\n",
       "     status                                            tagline  \\\n",
       "0  Released  The Laws of Space and Time are About to be Vio...   \n",
       "1  Released  It can take a lifetime to find true love; she'...   \n",
       "2  Released    The road to greatness can take you to the edge.   \n",
       "3  Released                                                NaN   \n",
       "4  Released                                                NaN   \n",
       "\n",
       "                                      title  \\\n",
       "0                    Hot Tub Time Machine 2   \n",
       "1  The Princess Diaries 2: Royal Engagement   \n",
       "2                                  Whiplash   \n",
       "3                                   Kahaani   \n",
       "4                                Marine Boy   \n",
       "\n",
       "                                            Keywords  \\\n",
       "0  [{'id': 4379, 'name': 'time travel'}, {'id': 9...   \n",
       "1  [{'id': 2505, 'name': 'coronation'}, {'id': 42...   \n",
       "2  [{'id': 1416, 'name': 'jazz'}, {'id': 1523, 'n...   \n",
       "3  [{'id': 10092, 'name': 'mystery'}, {'id': 1054...   \n",
       "4                                                NaN   \n",
       "\n",
       "                                                cast  \\\n",
       "0  [{'cast_id': 4, 'character': 'Lou', 'credit_id...   \n",
       "1  [{'cast_id': 1, 'character': 'Mia Thermopolis'...   \n",
       "2  [{'cast_id': 5, 'character': 'Andrew Neimann',...   \n",
       "3  [{'cast_id': 1, 'character': 'Vidya Bagchi', '...   \n",
       "4  [{'cast_id': 3, 'character': 'Chun-soo', 'cred...   \n",
       "\n",
       "                                                crew   revenue  \\\n",
       "0  [{'credit_id': '59ac067c92514107af02c8c8', 'de...  12314651   \n",
       "1  [{'credit_id': '52fe43fe9251416c7502563d', 'de...  95149435   \n",
       "2  [{'credit_id': '54d5356ec3a3683ba0000039', 'de...  13092000   \n",
       "3  [{'credit_id': '52fe48779251416c9108d6eb', 'de...  16000000   \n",
       "4  [{'credit_id': '52fe464b9251416c75073b43', 'de...   3923970   \n",
       "\n",
       "                            newbelongs_to_collection name_collection  \n",
       "0  [{'id': 313576, 'name': 'Hot Tub Time Machine ...             152  \n",
       "1  [{'id': 107674, 'name': 'The Princess Diaries ...             366  \n",
       "2                                                  0               1  \n",
       "3                                                  0               1  \n",
       "4                                                  0               1  \n",
       "\n",
       "[5 rows x 25 columns]"
      ]
     },
     "execution_count": 6,
     "metadata": {},
     "output_type": "execute_result"
    }
   ],
   "source": [
    "train['belongs_to_collection'].fillna(0, inplace=True)\n",
    "test['belongs_to_collection'].fillna(0, inplace=True)\n",
    "\n",
    "\n",
    "def checkBelongs(target_list):\n",
    "    # change the json into dic\n",
    "    target_list['newbelongs_to_collection'] = target_list['belongs_to_collection'].apply(lambda x: literal_eval(x) if x != 0 else 0)\n",
    "\n",
    "    # add one more collection name to store the collection name\n",
    "    target_list['name_collection'] = target_list['newbelongs_to_collection'].apply(lambda x: x[0]['name'] if x != 0 else '0')\n",
    "    # lable encoder\n",
    "    le = LabelEncoder()\n",
    "    le.fit(list(target_list['name_collection'].fillna('')))\n",
    "    target_list['name_collection'] = le.transform(target_list['name_collection'].fillna('').astype(str))\n",
    "\n",
    "checkBelongs(train)\n",
    "checkBelongs(test)\n",
    "# drop the old belongs_to_collection and newbelongs_to_collection\n",
    "drop_list_Yue.append('newbelongs_to_collection')\n",
    "drop_list_Yue.append('belongs_to_collection')\n",
    "train.head()"
   ]
  },
  {
   "cell_type": "markdown",
   "metadata": {},
   "source": [
    "#### budget\n",
    "McKenzie (2012) believes that the relationship between budget and movie success is critical importance. So we choose to keep the 0 budget if the budget of this movie is not certain."
   ]
  },
  {
   "cell_type": "code",
   "execution_count": 7,
   "metadata": {},
   "outputs": [
    {
     "data": {
      "text/plain": [
       "<seaborn.axisgrid.JointGrid at 0x1a1826c9b0>"
      ]
     },
     "execution_count": 7,
     "metadata": {},
     "output_type": "execute_result"
    },
    {
     "data": {
      "image/png": "[encoded data removed]",
      "text/plain": [
       "<Figure size 432x432 with 3 Axes>"
      ]
     },
     "metadata": {
      "needs_background": "light"
     },
     "output_type": "display_data"
    }
   ],
   "source": [
    "# checkout budget\n",
    "train['budget'].fillna(0, inplace=True)\n",
    "test['budget'].fillna(0, inplace=True)\n",
    "def checkBudget(target_list):\n",
    "    # change the json into dic\n",
    "    target_list['budget_log'] = target_list['budget'].apply(lambda x: np.log(x) if x != 0 else 0)\n",
    "\n",
    "\n",
    "checkBudget(train)\n",
    "checkBudget(test)\n",
    "# drop the old budget\n",
    "drop_list_Yue.append('budget')\n",
    "sns.jointplot(x=\"budget_log\", y=\"revenue\", data=train)"
   ]
  },
  {
   "cell_type": "markdown",
   "metadata": {},
   "source": [
    "#### genres"
   ]
  },
  {
   "cell_type": "code",
   "execution_count": 8,
   "metadata": {},
   "outputs": [
    {
     "data": {
      "text/plain": [
       "2    972\n",
       "3    900\n",
       "1    593\n",
       "4    393\n",
       "5    111\n",
       "6     21\n",
       "0      7\n",
       "7      3\n",
       "Name: new_genres, dtype: int64"
      ]
     },
     "execution_count": 8,
     "metadata": {},
     "output_type": "execute_result"
    }
   ],
   "source": [
    "# checkout genres\n",
    "train['genres'].fillna(0, inplace=True)\n",
    "test['genres'].fillna(0, inplace=True)\n",
    "# change the json into dic\n",
    "train['new_genres'] = train['genres'].apply(lambda x: literal_eval(x) if x != 0 else 0)\n",
    "test['new_genres'] = test['genres'].apply(lambda x: literal_eval(x) if x != 0 else 0)\n",
    "\n",
    "train['new_genres'].apply(lambda x: len(x) if x != 0 else 0).value_counts()\n",
    "# only 7 movies don't have the genres"
   ]
  },
  {
   "cell_type": "code",
   "execution_count": 9,
   "metadata": {},
   "outputs": [],
   "source": [
    "# check each genres for each movie\n",
    "def check_genre(target_list):\n",
    "    list_of_genres = list(target_list['new_genres'].apply(lambda x: [i['name'] for i in x] if x != 0 else []).values)\n",
    "    target_list['all_genres'] = target_list['new_genres'].apply(lambda x: ' '.join(sorted([i['name'] for i in x])) if x != 0 else '')\n",
    "    generes_list = [m[0] for m in Counter([i for j in list_of_genres for i in j]).most_common()]\n",
    "    for g in generes_list:\n",
    "        target_list['genre_' + g] = target_list['all_genres'].apply(lambda x: 1 if g in x else 0)\n",
    "\n",
    "check_genre(train)\n",
    "check_genre(test)\n",
    "drop_list_Yue.append('genres')\n",
    "drop_list_Yue.append('new_genres')\n",
    "drop_list_Yue.append('all_genres')"
   ]
  },
  {
   "cell_type": "markdown",
   "metadata": {},
   "source": [
    "#### homepage"
   ]
  },
  {
   "cell_type": "code",
   "execution_count": 10,
   "metadata": {},
   "outputs": [
    {
     "data": {
      "text/plain": [
       "<matplotlib.axes._subplots.AxesSubplot at 0x1a187f3518>"
      ]
     },
     "execution_count": 10,
     "metadata": {},
     "output_type": "execute_result"
    },
    {
     "data": {
      "image/png": "[encoded data removed]",
      "text/plain": [
       "<Figure size 432x288 with 1 Axes>"
      ]
     },
     "metadata": {
      "needs_background": "light"
     },
     "output_type": "display_data"
    }
   ],
   "source": [
    "train['homepage'].fillna(0, inplace=True)\n",
    "test['homepage'].fillna(0, inplace=True)\n",
    "\n",
    "train['len_homepage'] = train['homepage'].apply(lambda x: 1 if x != 0 else 0)\n",
    "sns.barplot(x='len_homepage',y='revenue',data=train)"
   ]
  },
  {
   "cell_type": "markdown",
   "metadata": {},
   "source": [
    "From the bar chart, the movie with homepage has more revenue."
   ]
  },
  {
   "cell_type": "code",
   "execution_count": 11,
   "metadata": {},
   "outputs": [],
   "source": [
    "# we transform homepage into boolean\n",
    "train['len_homepage'] = train['homepage'].apply(lambda x: 1 if x != 0 else 0)\n",
    "test['len_homepage'] = test['homepage'].apply(lambda x: 1 if x != 0 else 0)\n",
    "# drop the origin data\n",
    "drop_list_Yue.append('homepage')"
   ]
  },
  {
   "cell_type": "markdown",
   "metadata": {},
   "source": [
    "#### imdb_id"
   ]
  },
  {
   "cell_type": "code",
   "execution_count": 12,
   "metadata": {},
   "outputs": [
    {
     "data": {
      "text/plain": [
       "9    3000\n",
       "Name: imdb_id, dtype: int64"
      ]
     },
     "execution_count": 12,
     "metadata": {},
     "output_type": "execute_result"
    }
   ],
   "source": [
    "# checkout imdb_id\n",
    "train['imdb_id'].apply(lambda x: len(x) if x != 0 else 0).value_counts()"
   ]
  },
  {
   "cell_type": "markdown",
   "metadata": {},
   "source": [
    "Since every movie has its own imdb_id which is unique to each movie, we can ignore this attribute."
   ]
  },
  {
   "cell_type": "code",
   "execution_count": 13,
   "metadata": {},
   "outputs": [],
   "source": [
    "drop_list_Yue.append('imdb_id')"
   ]
  },
  {
   "cell_type": "markdown",
   "metadata": {},
   "source": [
    "#### original_language"
   ]
  },
  {
   "cell_type": "code",
   "execution_count": 14,
   "metadata": {},
   "outputs": [
    {
     "data": {
      "text/plain": [
       "en    2575\n",
       "fr      78\n",
       "ru      47\n",
       "es      43\n",
       "hi      42\n",
       "ja      37\n",
       "it      24\n",
       "cn      20\n",
       "ko      20\n",
       "zh      19\n",
       "de      18\n",
       "ta      16\n",
       "sv       8\n",
       "nl       6\n",
       "pt       6\n",
       "fa       5\n",
       "da       5\n",
       "ro       4\n",
       "hu       3\n",
       "tr       3\n",
       "no       2\n",
       "te       2\n",
       "fi       2\n",
       "ml       2\n",
       "pl       2\n",
       "el       1\n",
       "ar       1\n",
       "mr       1\n",
       "bn       1\n",
       "nb       1\n",
       "ur       1\n",
       "he       1\n",
       "sr       1\n",
       "id       1\n",
       "vi       1\n",
       "cs       1\n",
       "Name: original_language, dtype: int64"
      ]
     },
     "execution_count": 14,
     "metadata": {},
     "output_type": "execute_result"
    }
   ],
   "source": [
    "# checkout original_language\n",
    "train['original_language'].apply(lambda x: x if x != 0 else 0).value_counts()"
   ]
  },
  {
   "cell_type": "code",
   "execution_count": 15,
   "metadata": {},
   "outputs": [],
   "source": [
    "def checkLanguage(target_list):\n",
    "    # lable encoder\n",
    "    le = LabelEncoder()\n",
    "    le.fit(list(target_list['original_language'].fillna('')))\n",
    "    target_list['langua_type'] = le.transform(target_list['original_language'].fillna('').astype(str))\n",
    "\n",
    "checkLanguage(train)\n",
    "checkLanguage(test)\n",
    "# drop the origin data\n",
    "drop_list_Yue.append('original_language')"
   ]
  },
  {
   "cell_type": "markdown",
   "metadata": {},
   "source": [
    "#### original_title"
   ]
  },
  {
   "cell_type": "code",
   "execution_count": 16,
   "metadata": {},
   "outputs": [],
   "source": [
    "# check the whether title has been changed, check the title length\n",
    "def checkTitle(target_list):\n",
    "    # check whether equal\n",
    "    target_list['original_title'].fillna('')\n",
    "    target_list['ortitle_equal'] = 1\n",
    "    target_list.loc[ target_list['original_title'] == target_list['title'] ,\"ortitle_equal\"] = 0 \n",
    "    \n",
    "    # title length account\n",
    "    target_list['original_title_length'] = target_list['original_title'].str.len() \n",
    "    target_list['original_title_word'] = target_list['original_title'].str.split().str.len()\n",
    "\n",
    "checkTitle(train)\n",
    "checkTitle(test)\n",
    "drop_list_Yue.append('original_language')"
   ]
  },
  {
   "cell_type": "markdown",
   "metadata": {},
   "source": [
    "#### overview"
   ]
  },
  {
   "cell_type": "code",
   "execution_count": 17,
   "metadata": {},
   "outputs": [],
   "source": [
    "# check the overview length\n",
    "def checkOverview(target_list):\n",
    "    # title length account\n",
    "    target_list['overview_length'] = target_list['overview'].str.len() \n",
    "    target_list['overview_word'] = target_list['overview'].str.split().str.len()\n",
    "\n",
    "checkOverview(train)\n",
    "checkOverview(test)\n",
    "drop_list_Yue.append('overview')"
   ]
  },
  {
   "cell_type": "markdown",
   "metadata": {},
   "source": [
    "#### popularity"
   ]
  },
  {
   "cell_type": "code",
   "execution_count": 18,
   "metadata": {},
   "outputs": [
    {
     "data": {
      "text/plain": [
       "<seaborn.axisgrid.JointGrid at 0x1a191d2748>"
      ]
     },
     "execution_count": 18,
     "metadata": {},
     "output_type": "execute_result"
    },
    {
     "data": {
      "image/png": "[encoded data removed]",
      "text/plain": [
       "<Figure size 432x432 with 3 Axes>"
      ]
     },
     "metadata": {
      "needs_background": "light"
     },
     "output_type": "display_data"
    }
   ],
   "source": [
    "# Show the relationship between popularity and revenue\n",
    "train['popularity'].fillna(0, inplace=True)\n",
    "test['popularity'].fillna(0, inplace=True)\n",
    "sns.jointplot(x=\"popularity\", y=\"revenue\", data=train)"
   ]
  },
  {
   "cell_type": "markdown",
   "metadata": {},
   "source": [
    "#### poster_path\n",
    "We ignore the 'poster_path'. Even the poster should have some effect on motivating cutomers to watch movie. The anaylsis for image is a tough work. Besides, our concentration is focusing on the data that we can manipulate. Hence, we drop the img."
   ]
  },
  {
   "cell_type": "code",
   "execution_count": 19,
   "metadata": {},
   "outputs": [],
   "source": [
    "drop_list_Yue.append('poster_path')"
   ]
  },
  {
   "cell_type": "markdown",
   "metadata": {},
   "source": [
    "#### production_companies"
   ]
  },
  {
   "cell_type": "code",
   "execution_count": 20,
   "metadata": {},
   "outputs": [
    {
     "data": {
      "text/plain": [
       "1     775\n",
       "2     734\n",
       "3     582\n",
       "4     312\n",
       "5     166\n",
       "0     156\n",
       "6     118\n",
       "7      62\n",
       "8      42\n",
       "9      29\n",
       "11      7\n",
       "10      7\n",
       "12      3\n",
       "16      2\n",
       "15      2\n",
       "14      1\n",
       "13      1\n",
       "17      1\n",
       "Name: newproduction_companies, dtype: int64"
      ]
     },
     "execution_count": 20,
     "metadata": {},
     "output_type": "execute_result"
    }
   ],
   "source": [
    "# checkout production_companies\n",
    "# fill the NaN\n",
    "train['production_companies'].fillna(0, inplace=True)\n",
    "test['production_companies'].fillna(0, inplace=True)\n",
    "# change the json into dic\n",
    "train['newproduction_companies'] = train['production_companies'].apply(lambda x: literal_eval(x) if x != 0 else 0)\n",
    "\n",
    "test['newproduction_companies'] = test['production_companies'].apply(lambda x: literal_eval(x) if x != 0 else 0)\n",
    "\n",
    "train['newproduction_companies'].apply(lambda x: len(x) if x != 0 else 0).value_counts()"
   ]
  },
  {
   "cell_type": "code",
   "execution_count": 21,
   "metadata": {},
   "outputs": [],
   "source": [
    "# check each production_companies for each movie\n",
    "def check_produc_com(target_list):\n",
    "    list_of_prodc = list(target_list['newproduction_companies'].apply(lambda x: [i['name'] for i in x] if x != 0 else []).values)\n",
    "    target_list['all_prodc'] = target_list['newproduction_companies'].apply(lambda x: ' '.join(sorted([i['name'] for i in x])) if x != 0 else '')\n",
    "    prodc_list = [m[0] for m in Counter([i for j in list_of_prodc for i in j]).most_common()]\n",
    "    for g in prodc_list:\n",
    "        target_list['prodc_' + g] = target_list['all_prodc'].apply(lambda x: 1 if g in x else 0)\n",
    "\n",
    "check_produc_com(train)\n",
    "check_produc_com(test)\n",
    "drop_list_Yue.append('production_companies')\n",
    "drop_list_Yue.append('newproduction_companies')\n",
    "drop_list_Yue.append('all_prodc')"
   ]
  },
  {
   "cell_type": "code",
   "execution_count": 22,
   "metadata": {},
   "outputs": [],
   "source": [
    "# drop the origin data\n",
    "# train.drop(np.unique(drop_list_Yue), axis = 1, inplace = True)\n",
    "# test.drop(np.unique(drop_list_Yue), axis = 1, inplace = True)\n",
    "# train.head()"
   ]
  },
  {
   "cell_type": "markdown",
   "metadata": {},
   "source": [
    "### Yixiao's part\n",
    "Yixiao is working on data pre-processing for columns from production country to production company keywords"
   ]
  },
  {
   "cell_type": "markdown",
   "metadata": {},
   "source": [
    "#### Production countries"
   ]
  },
  {
   "cell_type": "code",
   "execution_count": 23,
   "metadata": {
    "tags": []
   },
   "outputs": [
    {
     "name": "stdout",
     "output_type": "stream",
     "text": [
      "TOP 10 revenue by production countries\n",
      "\n",
      "Movie produced from Czech Republic,United Arab Emirates,United States of America has mean revenue 694713380.0\n",
      "Movie produced from New Zealand,United States of America has mean revenue 607134808.86\n",
      "Movie produced from Czech Republic,Germany,Italy,United Kingdom,United States of America has mean revenue 599045960.0\n",
      "Movie produced from Germany,New Zealand,United States of America has mean revenue 550000000.0\n",
      "Movie produced from Canada,Hong Kong,Taiwan,United States of America has mean revenue 532950503.0\n",
      "Movie produced from Malta,United States of America has mean revenue 531865000.0\n",
      "Movie produced from Czech Republic,Poland,Slovenia,United States of America has mean revenue 419651413.0\n",
      "Movie produced from Australia,Canada,China,Hong Kong,United States of America has mean revenue 331957105.0\n",
      "Movie produced from Australia,Canada,France,Germany has mean revenue 312242626.0\n",
      "Movie produced from Czech Republic,United States of America has mean revenue 300257475.0\n"
     ]
    }
   ],
   "source": [
    "# Separate and extract country name from production_countries\n",
    "train['production_countries_count'] = train['production_countries'].apply(lambda x: len(ast.literal_eval(x)) if x == x else 0)\n",
    "train['all_produced_countries'] = train['production_countries'].apply(lambda x: \",\".join(sorted([i['name'] for i in ast.literal_eval(x)])) if x == x else '')\n",
    "\n",
    "# Do the same to test set\n",
    "test['production_countries_count'] = test['production_countries'].apply(lambda x: len(ast.literal_eval(x)) if x == x else 0)\n",
    "test['all_produced_countries'] = test['production_countries'].apply(lambda x: \",\".join(sorted([i['name'] for i in ast.literal_eval(x)])) if x == x else '')\n",
    "\n",
    "# Calculate mean revenue for these movies\n",
    "revenue_means = {}\n",
    "for value in train['all_produced_countries'].unique():\n",
    "    query = \"all_produced_countries=='\" + value + \"'\"\n",
    "    revenue_means[value] = round(train.query(query)['revenue'].mean(),2)\n",
    "\n",
    "# Print the top 10 mean revenue\n",
    "counter = Counter(revenue_means)\n",
    "print (\"TOP 10 revenue by production countries\\n\")\n",
    "for v in counter.most_common(10):\n",
    "    countries, mean_revenue = v\n",
    "    print(\"Movie produced from \" + countries + \" has mean revenue \" + str(mean_revenue))"
   ]
  },
  {
   "cell_type": "markdown",
   "metadata": {},
   "source": [
    "We see from the above value counts that most movies are made by Czech Republic,United Arab Emirates,United States of America"
   ]
  },
  {
   "cell_type": "code",
   "execution_count": 24,
   "metadata": {},
   "outputs": [],
   "source": [
    "# Add columns produced_by_USA if needed\n",
    "\n",
    "# train[\"produced_by_USA\"] = train[\"all_countries\"].apply(lambda x: 1 if \"United States of America\" in x else 0)"
   ]
  },
  {
   "cell_type": "markdown",
   "metadata": {},
   "source": [
    "#### Release date\n",
    "Break release into month, day and year and derive release_dayofweek from the date\n",
    "Add all these information to separate columns in train dataframe"
   ]
  },
  {
   "cell_type": "code",
   "execution_count": 25,
   "metadata": {
    "tags": []
   },
   "outputs": [],
   "source": [
    "# Release date data preprocessing\n",
    "# Split release month, day, year into sepearte columns\n",
    "train[[\"release_month\",\"release_day\",\"release_year\"]] = train[\"release_date\"].str.split(\"/\",expand=True).replace(np.nan, -1).astype(int)\n",
    "# Change release year to 4 digits year\n",
    "train.loc[ (train['release_year'] <= 19) & (train['release_year'] < 100), \"release_year\"] += 2000\n",
    "train.loc[ (train['release_year'] > 19)  & (train['release_year'] < 100), \"release_year\"] += 1900\n",
    "release_date = pd.to_datetime(train[\"release_date\"])\n",
    "# Add the derived release weekday name to train\n",
    "train[\"release_dayofweek\"] = release_date.dt.weekday_name\n",
    "\n",
    "# Do the same to test set\n",
    "test[[\"release_month\",\"release_day\",\"release_year\"]] = test[\"release_date\"].str.split(\"/\",expand=True).replace(np.nan, -1).astype(int)\n",
    "# Change release year to 4 digits year\n",
    "test.loc[ (test['release_year'] <= 19) & (test['release_year'] < 100), \"release_year\"] += 2000\n",
    "test.loc[ (test['release_year'] > 19)  & (test['release_year'] < 100), \"release_year\"] += 1900\n",
    "release_date = pd.to_datetime(test[\"release_date\"])\n",
    "# Add the derived release weekday name to test\n",
    "test[\"release_dayofweek\"] = release_date.dt.weekday_name"
   ]
  },
  {
   "cell_type": "markdown",
   "metadata": {},
   "source": [
    "Encode the month and release_dayofweek to become boolean value (e.g. release_on_Wed, release_on_June)"
   ]
  },
  {
   "cell_type": "code",
   "execution_count": 26,
   "metadata": {},
   "outputs": [
    {
     "ename": "TypeError",
     "evalue": "'<' not supported between instances of 'float' and 'str'",
     "output_type": "error",
     "traceback": [
      "\u001b[0;31m---------------------------------------------------------------------------\u001b[0m",
      "\u001b[0;31mTypeError\u001b[0m                                 Traceback (most recent call last)",
      "\u001b[0;32m<ipython-input-26-001acefe5063>\u001b[0m in \u001b[0;36m<module>\u001b[0;34m\u001b[0m\n\u001b[1;32m     20\u001b[0m \u001b[0;31m# Encode release_dayofweek\u001b[0m\u001b[0;34m\u001b[0m\u001b[0;34m\u001b[0m\u001b[0;34m\u001b[0m\u001b[0m\n\u001b[1;32m     21\u001b[0m \u001b[0mencoder\u001b[0m \u001b[0;34m=\u001b[0m \u001b[0mpreprocessing\u001b[0m\u001b[0;34m.\u001b[0m\u001b[0mLabelBinarizer\u001b[0m\u001b[0;34m(\u001b[0m\u001b[0;34m)\u001b[0m\u001b[0;34m\u001b[0m\u001b[0;34m\u001b[0m\u001b[0m\n\u001b[0;32m---> 22\u001b[0;31m \u001b[0mrelease_dayofweek_transformed\u001b[0m \u001b[0;34m=\u001b[0m \u001b[0mencoder\u001b[0m\u001b[0;34m.\u001b[0m\u001b[0mfit_transform\u001b[0m\u001b[0;34m(\u001b[0m\u001b[0mtest\u001b[0m\u001b[0;34m[\u001b[0m\u001b[0;34m\"release_dayofweek\"\u001b[0m\u001b[0;34m]\u001b[0m\u001b[0;34m)\u001b[0m\u001b[0;34m\u001b[0m\u001b[0;34m\u001b[0m\u001b[0m\n\u001b[0m\u001b[1;32m     23\u001b[0m \u001b[0mrelease_dayofweek\u001b[0m \u001b[0;34m=\u001b[0m \u001b[0mpd\u001b[0m\u001b[0;34m.\u001b[0m\u001b[0mDataFrame\u001b[0m\u001b[0;34m(\u001b[0m\u001b[0mrelease_dayofweek_transformed\u001b[0m\u001b[0;34m)\u001b[0m\u001b[0;34m\u001b[0m\u001b[0;34m\u001b[0m\u001b[0m\n\u001b[1;32m     24\u001b[0m \u001b[0;31m# Add to test dataframe\u001b[0m\u001b[0;34m\u001b[0m\u001b[0;34m\u001b[0m\u001b[0;34m\u001b[0m\u001b[0m\n",
      "\u001b[0;32m~/anaconda3/lib/python3.7/site-packages/sklearn/preprocessing/label.py\u001b[0m in \u001b[0;36mfit_transform\u001b[0;34m(self, y)\u001b[0m\n\u001b[1;32m    434\u001b[0m             \u001b[0mShape\u001b[0m \u001b[0mwill\u001b[0m \u001b[0mbe\u001b[0m \u001b[0;34m[\u001b[0m\u001b[0mn_samples\u001b[0m\u001b[0;34m,\u001b[0m \u001b[0;36m1\u001b[0m\u001b[0;34m]\u001b[0m \u001b[0;32mfor\u001b[0m \u001b[0mbinary\u001b[0m \u001b[0mproblems\u001b[0m\u001b[0;34m.\u001b[0m\u001b[0;34m\u001b[0m\u001b[0;34m\u001b[0m\u001b[0m\n\u001b[1;32m    435\u001b[0m         \"\"\"\n\u001b[0;32m--> 436\u001b[0;31m         \u001b[0;32mreturn\u001b[0m \u001b[0mself\u001b[0m\u001b[0;34m.\u001b[0m\u001b[0mfit\u001b[0m\u001b[0;34m(\u001b[0m\u001b[0my\u001b[0m\u001b[0;34m)\u001b[0m\u001b[0;34m.\u001b[0m\u001b[0mtransform\u001b[0m\u001b[0;34m(\u001b[0m\u001b[0my\u001b[0m\u001b[0;34m)\u001b[0m\u001b[0;34m\u001b[0m\u001b[0;34m\u001b[0m\u001b[0m\n\u001b[0m\u001b[1;32m    437\u001b[0m \u001b[0;34m\u001b[0m\u001b[0m\n\u001b[1;32m    438\u001b[0m     \u001b[0;32mdef\u001b[0m \u001b[0mtransform\u001b[0m\u001b[0;34m(\u001b[0m\u001b[0mself\u001b[0m\u001b[0;34m,\u001b[0m \u001b[0my\u001b[0m\u001b[0;34m)\u001b[0m\u001b[0;34m:\u001b[0m\u001b[0;34m\u001b[0m\u001b[0;34m\u001b[0m\u001b[0m\n",
      "\u001b[0;32m~/anaconda3/lib/python3.7/site-packages/sklearn/preprocessing/label.py\u001b[0m in \u001b[0;36mfit\u001b[0;34m(self, y)\u001b[0m\n\u001b[1;32m    403\u001b[0m         \u001b[0mself\u001b[0m \u001b[0;34m:\u001b[0m \u001b[0mreturns\u001b[0m \u001b[0man\u001b[0m \u001b[0minstance\u001b[0m \u001b[0mof\u001b[0m \u001b[0mself\u001b[0m\u001b[0;34m.\u001b[0m\u001b[0;34m\u001b[0m\u001b[0;34m\u001b[0m\u001b[0m\n\u001b[1;32m    404\u001b[0m         \"\"\"\n\u001b[0;32m--> 405\u001b[0;31m         \u001b[0mself\u001b[0m\u001b[0;34m.\u001b[0m\u001b[0my_type_\u001b[0m \u001b[0;34m=\u001b[0m \u001b[0mtype_of_target\u001b[0m\u001b[0;34m(\u001b[0m\u001b[0my\u001b[0m\u001b[0;34m)\u001b[0m\u001b[0;34m\u001b[0m\u001b[0;34m\u001b[0m\u001b[0m\n\u001b[0m\u001b[1;32m    406\u001b[0m         \u001b[0;32mif\u001b[0m \u001b[0;34m'multioutput'\u001b[0m \u001b[0;32min\u001b[0m \u001b[0mself\u001b[0m\u001b[0;34m.\u001b[0m\u001b[0my_type_\u001b[0m\u001b[0;34m:\u001b[0m\u001b[0;34m\u001b[0m\u001b[0;34m\u001b[0m\u001b[0m\n\u001b[1;32m    407\u001b[0m             raise ValueError(\"Multioutput target data is not supported with \"\n",
      "\u001b[0;32m~/anaconda3/lib/python3.7/site-packages/sklearn/utils/multiclass.py\u001b[0m in \u001b[0;36mtype_of_target\u001b[0;34m(y)\u001b[0m\n\u001b[1;32m    285\u001b[0m         \u001b[0;32mreturn\u001b[0m \u001b[0;34m'continuous'\u001b[0m \u001b[0;34m+\u001b[0m \u001b[0msuffix\u001b[0m\u001b[0;34m\u001b[0m\u001b[0;34m\u001b[0m\u001b[0m\n\u001b[1;32m    286\u001b[0m \u001b[0;34m\u001b[0m\u001b[0m\n\u001b[0;32m--> 287\u001b[0;31m     \u001b[0;32mif\u001b[0m \u001b[0;34m(\u001b[0m\u001b[0mlen\u001b[0m\u001b[0;34m(\u001b[0m\u001b[0mnp\u001b[0m\u001b[0;34m.\u001b[0m\u001b[0munique\u001b[0m\u001b[0;34m(\u001b[0m\u001b[0my\u001b[0m\u001b[0;34m)\u001b[0m\u001b[0;34m)\u001b[0m \u001b[0;34m>\u001b[0m \u001b[0;36m2\u001b[0m\u001b[0;34m)\u001b[0m \u001b[0;32mor\u001b[0m \u001b[0;34m(\u001b[0m\u001b[0my\u001b[0m\u001b[0;34m.\u001b[0m\u001b[0mndim\u001b[0m \u001b[0;34m>=\u001b[0m \u001b[0;36m2\u001b[0m \u001b[0;32mand\u001b[0m \u001b[0mlen\u001b[0m\u001b[0;34m(\u001b[0m\u001b[0my\u001b[0m\u001b[0;34m[\u001b[0m\u001b[0;36m0\u001b[0m\u001b[0;34m]\u001b[0m\u001b[0;34m)\u001b[0m \u001b[0;34m>\u001b[0m \u001b[0;36m1\u001b[0m\u001b[0;34m)\u001b[0m\u001b[0;34m:\u001b[0m\u001b[0;34m\u001b[0m\u001b[0;34m\u001b[0m\u001b[0m\n\u001b[0m\u001b[1;32m    288\u001b[0m         \u001b[0;32mreturn\u001b[0m \u001b[0;34m'multiclass'\u001b[0m \u001b[0;34m+\u001b[0m \u001b[0msuffix\u001b[0m  \u001b[0;31m# [1, 2, 3] or [[1., 2., 3]] or [[1, 2]]\u001b[0m\u001b[0;34m\u001b[0m\u001b[0;34m\u001b[0m\u001b[0m\n\u001b[1;32m    289\u001b[0m     \u001b[0;32melse\u001b[0m\u001b[0;34m:\u001b[0m\u001b[0;34m\u001b[0m\u001b[0;34m\u001b[0m\u001b[0m\n",
      "\u001b[0;32m~/anaconda3/lib/python3.7/site-packages/numpy/lib/arraysetops.py\u001b[0m in \u001b[0;36munique\u001b[0;34m(ar, return_index, return_inverse, return_counts, axis)\u001b[0m\n\u001b[1;32m    231\u001b[0m     \u001b[0mar\u001b[0m \u001b[0;34m=\u001b[0m \u001b[0mnp\u001b[0m\u001b[0;34m.\u001b[0m\u001b[0masanyarray\u001b[0m\u001b[0;34m(\u001b[0m\u001b[0mar\u001b[0m\u001b[0;34m)\u001b[0m\u001b[0;34m\u001b[0m\u001b[0;34m\u001b[0m\u001b[0m\n\u001b[1;32m    232\u001b[0m     \u001b[0;32mif\u001b[0m \u001b[0maxis\u001b[0m \u001b[0;32mis\u001b[0m \u001b[0;32mNone\u001b[0m\u001b[0;34m:\u001b[0m\u001b[0;34m\u001b[0m\u001b[0;34m\u001b[0m\u001b[0m\n\u001b[0;32m--> 233\u001b[0;31m         \u001b[0mret\u001b[0m \u001b[0;34m=\u001b[0m \u001b[0m_unique1d\u001b[0m\u001b[0;34m(\u001b[0m\u001b[0mar\u001b[0m\u001b[0;34m,\u001b[0m \u001b[0mreturn_index\u001b[0m\u001b[0;34m,\u001b[0m \u001b[0mreturn_inverse\u001b[0m\u001b[0;34m,\u001b[0m \u001b[0mreturn_counts\u001b[0m\u001b[0;34m)\u001b[0m\u001b[0;34m\u001b[0m\u001b[0;34m\u001b[0m\u001b[0m\n\u001b[0m\u001b[1;32m    234\u001b[0m         \u001b[0;32mreturn\u001b[0m \u001b[0m_unpack_tuple\u001b[0m\u001b[0;34m(\u001b[0m\u001b[0mret\u001b[0m\u001b[0;34m)\u001b[0m\u001b[0;34m\u001b[0m\u001b[0;34m\u001b[0m\u001b[0m\n\u001b[1;32m    235\u001b[0m \u001b[0;34m\u001b[0m\u001b[0m\n",
      "\u001b[0;32m~/anaconda3/lib/python3.7/site-packages/numpy/lib/arraysetops.py\u001b[0m in \u001b[0;36m_unique1d\u001b[0;34m(ar, return_index, return_inverse, return_counts)\u001b[0m\n\u001b[1;32m    279\u001b[0m         \u001b[0maux\u001b[0m \u001b[0;34m=\u001b[0m \u001b[0mar\u001b[0m\u001b[0;34m[\u001b[0m\u001b[0mperm\u001b[0m\u001b[0;34m]\u001b[0m\u001b[0;34m\u001b[0m\u001b[0;34m\u001b[0m\u001b[0m\n\u001b[1;32m    280\u001b[0m     \u001b[0;32melse\u001b[0m\u001b[0;34m:\u001b[0m\u001b[0;34m\u001b[0m\u001b[0;34m\u001b[0m\u001b[0m\n\u001b[0;32m--> 281\u001b[0;31m         \u001b[0mar\u001b[0m\u001b[0;34m.\u001b[0m\u001b[0msort\u001b[0m\u001b[0;34m(\u001b[0m\u001b[0;34m)\u001b[0m\u001b[0;34m\u001b[0m\u001b[0;34m\u001b[0m\u001b[0m\n\u001b[0m\u001b[1;32m    282\u001b[0m         \u001b[0maux\u001b[0m \u001b[0;34m=\u001b[0m \u001b[0mar\u001b[0m\u001b[0;34m\u001b[0m\u001b[0;34m\u001b[0m\u001b[0m\n\u001b[1;32m    283\u001b[0m     \u001b[0mmask\u001b[0m \u001b[0;34m=\u001b[0m \u001b[0mnp\u001b[0m\u001b[0;34m.\u001b[0m\u001b[0mempty\u001b[0m\u001b[0;34m(\u001b[0m\u001b[0maux\u001b[0m\u001b[0;34m.\u001b[0m\u001b[0mshape\u001b[0m\u001b[0;34m,\u001b[0m \u001b[0mdtype\u001b[0m\u001b[0;34m=\u001b[0m\u001b[0mnp\u001b[0m\u001b[0;34m.\u001b[0m\u001b[0mbool_\u001b[0m\u001b[0;34m)\u001b[0m\u001b[0;34m\u001b[0m\u001b[0;34m\u001b[0m\u001b[0m\n",
      "\u001b[0;31mTypeError\u001b[0m: '<' not supported between instances of 'float' and 'str'"
     ]
    }
   ],
   "source": [
    "# Encode release_dayofweek\n",
    "encoder = preprocessing.LabelBinarizer()\n",
    "release_dayofweek_transformed = encoder.fit_transform(train[\"release_dayofweek\"])\n",
    "release_dayofweek = pd.DataFrame(release_dayofweek_transformed)\n",
    "# Add to train dataframe\n",
    "train = pd.concat([train,release_dayofweek], axis=1)\n",
    "\n",
    "# Rename column name for easier use\n",
    "train.rename(columns={0 : \"released_on_\" + str(encoder.classes_[0]), 1 : \"released_on_\" + str(encoder.classes_[1]), 2 : \"released_on_\" + str(encoder.classes_[2]),3 : \"released_on_\" + str(encoder.classes_[3]),4 : \"released_on_\" + str(encoder.classes_[4]),5 : \"released_on_\" + str(encoder.classes_[5]),6 : \"released_on_\" + str(encoder.classes_[6])},inplace=True)\n",
    "\n",
    "release_month_transformed = encoder.fit_transform(train[\"release_month\"])\n",
    "release_month = pd.DataFrame(release_month_transformed)\n",
    "# Add to train dataframe\n",
    "train = pd.concat([train,release_month], axis=1)\n",
    "\n",
    "# Rename column name for easier use\n",
    "train.rename(columns={0 : \"released_on_\" + \"Jan\", 1 : \"released_on_\" + \"Feb\", 2 : \"released_on_\" + \"Mar\",3 : \"released_on_\" + \"Apr\",4 : \"released_on_\" + \"May\",5 : \"released_on_\" + \"Jun\",6 : \"released_on_\" + \"Jul\",7 : \"released_on_\" + \"Aug\", 8 : \"released_on_\" + \"Sep\", 9 : \"released_on_\" + \"Oct\",10 : \"released_on_\" + \"Nov\",11 : \"released_on_\" + \"Dec\"},inplace=True)\n",
    "\n",
    "# Do the same to test set\n",
    "# Encode release_dayofweek\n",
    "encoder = preprocessing.LabelBinarizer()\n",
    "release_dayofweek_transformed = encoder.fit_transform(test[\"release_dayofweek\"])\n",
    "release_dayofweek = pd.DataFrame(release_dayofweek_transformed)\n",
    "# Add to test dataframe\n",
    "test = pd.concat([test,release_dayofweek], axis=1)\n",
    "\n",
    "# Rename column name for easier use\n",
    "test.rename(columns={0 : \"released_on_\" + str(encoder.classes_[0]), 1 : \"released_on_\" + str(encoder.classes_[1]), 2 : \"released_on_\" + str(encoder.classes_[2]),3 : \"released_on_\" + str(encoder.classes_[3]),4 : \"released_on_\" + str(encoder.classes_[4]),5 : \"released_on_\" + str(encoder.classes_[5]),6 : \"released_on_\" + str(encoder.classes_[6])},inplace=True)\n",
    "\n",
    "release_month_transformed = encoder.fit_transform(test[\"release_month\"])\n",
    "release_month = pd.DataFrame(release_month_transformed)\n",
    "# Add to test dataframe\n",
    "test = pd.concat([test,release_month], axis=1)\n",
    "\n",
    "# Rename column name for easier use\n",
    "test.rename(columns={0 : \"released_on_\" + \"Jan\", 1 : \"released_on_\" + \"Feb\", 2 : \"released_on_\" + \"Mar\",3 : \"released_on_\" + \"Apr\",4 : \"released_on_\" + \"May\",5 : \"released_on_\" + \"Jun\",6 : \"released_on_\" + \"Jul\",7 : \"released_on_\" + \"Aug\", 8 : \"released_on_\" + \"Sep\", 9 : \"released_on_\" + \"Oct\",10 : \"released_on_\" + \"Nov\",11 : \"released_on_\" + \"Dec\"},inplace=True)"
   ]
  },
  {
   "cell_type": "markdown",
   "metadata": {},
   "source": [
    "#### runtime"
   ]
  },
  {
   "cell_type": "code",
   "execution_count": null,
   "metadata": {
    "tags": []
   },
   "outputs": [],
   "source": [
    "median = train[\"runtime\"].median()\n",
    "train[\"runtime\"].fillna(median,inplace=True)\n",
    "train.plot(x=\"runtime\",y=\"revenue\",kind=\"scatter\")\n",
    "plt.show()\n",
    "\n",
    "median = test[\"runtime\"].median()\n",
    "test[\"runtime\"].fillna(median,inplace=True)"
   ]
  },
  {
   "cell_type": "markdown",
   "metadata": {},
   "source": [
    "#### Spoken language"
   ]
  },
  {
   "cell_type": "code",
   "execution_count": null,
   "metadata": {
    "tags": []
   },
   "outputs": [],
   "source": [
    "# Separate and extract country name from production_countries\n",
    "train['spoken_languages_count'] = train['spoken_languages'].apply(lambda x: len(ast.literal_eval(x)) if x == x else 0)\n",
    "train['all_spoken_languages'] = train['spoken_languages'].apply(lambda x: \",\".join(sorted([i['name'] for i in ast.literal_eval(x)])) if x == x else '')\n",
    "\n",
    "# Do the same to test set\n",
    "test['spoken_languages_count'] = test['spoken_languages'].apply(lambda x: len(ast.literal_eval(x)) if x == x else 0)\n",
    "test['all_spoken_languages'] = test['spoken_languages'].apply(lambda x: \",\".join(sorted([i['name'] for i in ast.literal_eval(x)])) if x == x else '')\n",
    "\n",
    "# Calculate mean revenue for these movies\n",
    "revenue_means = {}\n",
    "for value in train['all_spoken_languages'].unique():\n",
    "    query = \"all_spoken_languages=='\" + value + \"'\"\n",
    "    revenue_means[value] = round(train.query(query)['revenue'].mean(),2)\n",
    "\n",
    "# Print the top 10 mean revenue\n",
    "counter = Counter(revenue_means)\n",
    "print (\"TOP 10 revenue by spoken languages\\n\")\n",
    "for v in counter.most_common(10):\n",
    "    languages, mean_revenue = v\n",
    "    print(\"Movie of spoken language \" + languages + \" has mean revenue \" + str(mean_revenue))"
   ]
  },
  {
   "cell_type": "markdown",
   "metadata": {},
   "source": [
    "#### Status"
   ]
  },
  {
   "cell_type": "code",
   "execution_count": null,
   "metadata": {
    "tags": []
   },
   "outputs": [],
   "source": [
    "# Sum revenue of all released movie\n",
    "print (\"Released movie mean revenue = \" + str(train.query(\"status=='Released'\")['revenue'].mean()))\n",
    "# Sum revenue of all rumoured movie\n",
    "print (\"Rumored movie mean revenue = \" + str(train.query(\"status=='Rumored'\")['revenue'].mean()))"
   ]
  },
  {
   "cell_type": "markdown",
   "metadata": {},
   "source": [
    "Clearly, released movies have a much higher mean revenue than rumored movie, therefore, we will create a column isReleased to our train dataframe"
   ]
  },
  {
   "cell_type": "code",
   "execution_count": null,
   "metadata": {},
   "outputs": [],
   "source": [
    "train[\"is_released\"] = np.where(train[\"status\"]==\"Released\",1,0)\n",
    "train.drop(columns=[\"status\"],inplace=True)\n",
    "\n",
    "# Do the same to test set\n",
    "test[\"is_released\"] = np.where(test[\"status\"]==\"Released\",1,0)\n",
    "test.drop(columns=[\"status\"],inplace=True)"
   ]
  },
  {
   "cell_type": "markdown",
   "metadata": {},
   "source": [
    "#### Keywords"
   ]
  },
  {
   "cell_type": "code",
   "execution_count": null,
   "metadata": {
    "tags": []
   },
   "outputs": [],
   "source": [
    "# Separate and extract country name from production_countries\n",
    "train['keywords_count'] = train['Keywords'].apply(lambda x: len(ast.literal_eval(x)) if x == x else 0)\n",
    "train['all_keywords'] = train['Keywords'].apply(lambda x: \",\".join(sorted([i['name'] for i in ast.literal_eval(x)])) if x == x else '')\n",
    "\n",
    "# Do the same to test set\n",
    "test['keywords_count'] = test['Keywords'].apply(lambda x: len(ast.literal_eval(x)) if x == x else 0)\n",
    "test['all_keywords'] = test['Keywords'].apply(lambda x: \",\".join(sorted([i['name'] for i in ast.literal_eval(x)])) if x == x else '')\n",
    "\n",
    "# Calculate mean revenue for these movies\n",
    "revenue_means = {}\n",
    "for value in train['all_keywords'].unique():\n",
    "    query = 'all_keywords==\"' + value + '\"'\n",
    "    revenue_means[value] = round(train.query(query)['revenue'].mean(),2)\n",
    "\n",
    "# Print the top 10 mean revenue\n",
    "counter = Counter(revenue_means)\n",
    "print (\"TOP 10 revenue by keywords\\n\")\n",
    "for v in counter.most_common(10):\n",
    "    keywords, mean_revenue = v\n",
    "    print(\"Movie of Keywords \" + keywords + \" has mean revenue \" + str(mean_revenue))"
   ]
  },
  {
   "cell_type": "markdown",
   "metadata": {},
   "source": [
    "### Tim's part\n",
    "Tim is working on data-preprocessing for column cast"
   ]
  },
  {
   "cell_type": "code",
   "execution_count": null,
   "metadata": {},
   "outputs": [],
   "source": [
    "# Replaces cast dict with list of cast\n",
    "def cast_list(cell):\n",
    "    if isinstance(cell, str):\n",
    "        cell_contents = cell[1:-1].replace('{','').replace('}','').replace('\"','').replace('\\'','').split(',')\n",
    "        cell = [x.replace(' name: ','') for x in cell_contents if \"name\" in x]\n",
    "    return cell\n",
    "\n",
    "train['cast'] = train['cast'].map(cast_list)"
   ]
  },
  {
   "cell_type": "code",
   "execution_count": null,
   "metadata": {},
   "outputs": [],
   "source": [
    "# Grab revenues\n",
    "def get_cast_members_with_revenues(df):\n",
    "    cast_members = {}\n",
    "    for index, movie in df.iterrows():\n",
    "        if isinstance(movie['cast'], list):\n",
    "            for cast in movie['cast']:\n",
    "                if cast in cast_members:\n",
    "                    revenue = cast_members[cast] + movie['revenue']\n",
    "                    cast_members[cast] = revenue\n",
    "                else:\n",
    "                    cast_members[cast] = movie['revenue']\n",
    "    return cast_members\n",
    "\n",
    "# Grab how many times cast was actually cast\n",
    "def cast_frequency(df):\n",
    "    cast_list= []\n",
    "    for index, movie in df.iterrows():\n",
    "        if isinstance(movie['cast'], list):\n",
    "            for cast in movie['cast']:\n",
    "                cast_list.append(cast)\n",
    "    unique, counts = np.unique(cast_list, return_counts=True)\n",
    "    return dict(zip(unique, counts))"
   ]
  },
  {
   "cell_type": "code",
   "execution_count": null,
   "metadata": {},
   "outputs": [],
   "source": [
    "# This will also be used to rank cast based on revenue\n",
    "cast_freq = cast_frequency(train)"
   ]
  },
  {
   "cell_type": "code",
   "execution_count": null,
   "metadata": {},
   "outputs": [],
   "source": [
    "cast_with_revenues = get_cast_members_with_revenues(train)"
   ]
  },
  {
   "cell_type": "code",
   "execution_count": null,
   "metadata": {},
   "outputs": [],
   "source": [
    "# Sort by largest revenue earners to smallest\n",
    "import operator\n",
    "sorted_cast_by_revenue = dict(sorted(cast_with_revenues.items(), key=operator.itemgetter(1),reverse=True))\n",
    "sorted_cast_by_revenue"
   ]
  },
  {
   "cell_type": "code",
   "execution_count": null,
   "metadata": {},
   "outputs": [],
   "source": [
    "# Convert to list\n",
    "cast_rev = []\n",
    "for key, value in sorted_cast_by_revenue.items():\n",
    "    temp = [key, value]\n",
    "    cast_rev.append(temp)"
   ]
  },
  {
   "cell_type": "code",
   "execution_count": null,
   "metadata": {},
   "outputs": [],
   "source": [
    "# Divide by frequency of occurence\n",
    "for cast in cast_rev:\n",
    "    cast[1] /= cast_freq[cast[0]]"
   ]
  },
  {
   "cell_type": "code",
   "execution_count": null,
   "metadata": {},
   "outputs": [],
   "source": [
    "# Convert back to dict\n",
    "dict_cast = dict() \n",
    "for cast in cast_rev: \n",
    "    dict_cast[cast[0]] = cast[1]\n",
    "dict_cast"
   ]
  },
  {
   "cell_type": "code",
   "execution_count": null,
   "metadata": {},
   "outputs": [],
   "source": [
    "# Add a new column to training data which includes the score of each movie based on cast\n",
    "# This score is simply the sum of the values of each cast\n",
    "\n",
    "def get_cast_score(cell):\n",
    "    cast_score = 0\n",
    "    if isinstance(cell, list):\n",
    "        for cast in cell:\n",
    "            if cast in dict_cast:\n",
    "                cast_score += dict_cast[cast]\n",
    "    return cast_score\n",
    "\n",
    "train['cast_score'] = train['cast'].map(get_cast_score)"
   ]
  },
  {
   "cell_type": "code",
   "execution_count": null,
   "metadata": {},
   "outputs": [],
   "source": [
    "# Check. As you can see, the metric does an ok job, but it is not perfect.\n",
    "check = train.sort_values(by=['cast_score'], ascending=False)\n",
    "check[['original_title', 'revenue', 'budget', 'popularity', 'cast_score']].head(20)"
   ]
  },
  {
   "cell_type": "code",
   "execution_count": null,
   "metadata": {},
   "outputs": [],
   "source": [
    "# See how well this new metric works (higher is better)\n",
    "train['cast_score'].corr(train['revenue'])\n",
    "# 0.7155260245338373 (not bad, but not as good as budget which was ~0.75)"
   ]
  },
  {
   "cell_type": "code",
   "execution_count": null,
   "metadata": {},
   "outputs": [],
   "source": [
    "# Apply to test set\n",
    "test['cast'] = test['cast'].map(cast_list)\n",
    "test['cast_score'] = test['cast'].map(get_cast_score)"
   ]
  },
  {
   "cell_type": "code",
   "execution_count": null,
   "metadata": {},
   "outputs": [],
   "source": [
    "test[['original_title', 'budget', 'popularity', 'cast_score']].head()"
   ]
  },
  {
   "cell_type": "markdown",
   "metadata": {},
   "source": [
    "### Shu's part\n",
    "Shu is working on data-preprocessing for column crew"
   ]
  },
  {
   "cell_type": "code",
   "execution_count": 27,
   "metadata": {},
   "outputs": [
    {
     "name": "stdout",
     "output_type": "stream",
     "text": [
      "0.8868306222141773\n"
     ]
    }
   ],
   "source": [
    "from collections import defaultdict\n",
    "import statistics\n",
    "\n",
    "# calculate list of revenue a crew is involved\n",
    "crew_with_revenue = defaultdict(list)\n",
    "for index, movie in train.iterrows():\n",
    "   try:\n",
    "       revenue = movie.get('revenue')\n",
    "       crews = set()\n",
    "       for crew in ast.literal_eval(movie.get('crew')):\n",
    "           crews.add(crew['name'])\n",
    "       for crew_name in crews:\n",
    "           crew_with_revenue[crew_name].append(revenue)\n",
    "   except ValueError:\n",
    "       pass\n",
    "\n",
    "# calculate the mean value of a crew's revenue\n",
    "\n",
    "crew_with_mean_revenue = defaultdict(int)\n",
    "for k in crew_with_revenue:\n",
    "    crew_with_mean_revenue[k] = statistics.mean(crew_with_revenue[k])\n",
    "    \n",
    "# extract crew names from 'crew'\n",
    "train['all_crew_members'] = train['crew'].apply(lambda x: list(sorted([i['name'] for i in ast.literal_eval(x)])) if x == x else '')\n",
    "test['all_crew_members'] = test['crew'].apply(lambda x: list(sorted([i['name'] for i in ast.literal_eval(x)])) if x == x else '')\n",
    "\n",
    "# add a new column 'crew_score' which is calculated by the mean revenue of all the crew members for each movie\n",
    "# crew_score = 0 if the value for 'crew' is missing\n",
    "train['crew_score'] = train['all_crew_members'].apply(lambda x: statistics.mean(list(crew_with_mean_revenue[cru] for cru in x) if (x == x and len(x) > 0) else [0]))\n",
    "test['crew_score'] = test['all_crew_members'].apply(lambda x: statistics.mean(list(crew_with_mean_revenue[cru] for cru in x) if (x == x and len(x) > 0) else [0]))\n",
    "\n",
    "print(train['crew_score'].corr(train['revenue']))"
   ]
  },
  {
   "cell_type": "markdown",
   "metadata": {},
   "source": [
    "## Final Adjustments"
   ]
  },
  {
   "cell_type": "code",
   "execution_count": null,
   "metadata": {},
   "outputs": [],
   "source": [
    "def normalize(df):\n",
    "    columns = df.columns.tolist()\n",
    "    columns.remove('id')\n",
    "    for col in columns:\n",
    "            if df[col].max() > 1:\n",
    "                df[col] = df[col]/df[col].max()"
   ]
  },
  {
   "cell_type": "code",
   "execution_count": null,
   "metadata": {},
   "outputs": [],
   "source": [
    "def log(df):\n",
    "    columns = df.columns.tolist()\n",
    "    columns.remove('id')\n",
    "    for col in columns:\n",
    "            if df[col].max() > 1:\n",
    "                df[col] = np.log(df[col])"
   ]
  },
  {
   "cell_type": "code",
   "execution_count": null,
   "metadata": {},
   "outputs": [],
   "source": [
    "numericals = train.columns[train.dtypes != object]\n",
    "train_numericals = train[numericals]\n",
    "num = test.columns[test.dtypes != object]\n",
    "test_numericals = test[num]"
   ]
  },
  {
   "cell_type": "code",
   "execution_count": null,
   "metadata": {},
   "outputs": [],
   "source": [
    "normalize(train_numericals)\n",
    "normalize(test_numericals)"
   ]
  },
  {
   "cell_type": "code",
   "execution_count": null,
   "metadata": {},
   "outputs": [],
   "source": [
    "log(train_numericals)\n",
    "log(test_numericals)"
   ]
  },
  {
   "cell_type": "code",
   "execution_count": null,
   "metadata": {},
   "outputs": [],
   "source": [
    "# train_numericals.to_csv('final_train.csv', encoding = 'utf-8-sig', index=False)\n",
    "# test_numericals.to_csv('final_test.csv', encoding = 'utf-8-sig', index=False)"
   ]
  },
  {
   "cell_type": "markdown",
   "metadata": {},
   "source": [
    "## Check correlations"
   ]
  },
  {
   "cell_type": "code",
   "execution_count": null,
   "metadata": {},
   "outputs": [],
   "source": [
    "# Looking for correlations\n",
    "corr_matrix = train.corr()\n",
    "corr_matrix[\"revenue\"].sort_values(ascending=False)\n"
   ]
  },
  {
   "cell_type": "markdown",
   "metadata": {},
   "source": [
    "## Evaluation"
   ]
  },
  {
   "cell_type": "code",
   "execution_count": null,
   "metadata": {},
   "outputs": [],
   "source": [
    "# X = \n",
    "y = train[\"revenue\"]\n",
    "\n",
    "# Normalize the data\n",
    "min_max_scalar = preprocessing.MinMaxScaler()\n",
    "X = min_max_scalar.fit_transform(X)\n",
    "X_train, X_test, y_train, y_test = train_test_split(X,y,test_size=0.1)\n",
    "\n",
    "# Select model and fit\n",
    "# model = LinearRegression()\n",
    "model.fit(X_train,y_train)\n",
    "y_pred = model.predict(X_test)\n",
    "\n",
    "# Calculate RMSE\n",
    "RMSE = math.sqrt(mean_squared_error(y_test,y_pred))\n",
    "print(\"RMSE = \" + str(round(RMSE,2)))\n",
    "\n",
    "# Cross Validation\n",
    "scores = cross_val_score(model, X_train, y_train,scoring=\"neg_mean_squared_error\", cv=10) \n",
    "rmse_scores = np.sqrt(-scores)\n",
    "print(rmse_scores)"
   ]
  }
 ],
 "metadata": {
  "kernelspec": {
   "display_name": "Python 3",
   "language": "python",
   "name": "python3"
  },
  "language_info": {
   "codemirror_mode": {
    "name": "ipython",
    "version": 3
   },
   "file_extension": ".py",
   "mimetype": "text/x-python",
   "name": "python",
   "nbconvert_exporter": "python",
   "pygments_lexer": "ipython3",
   "version": "3.7.1"
  }
 },
 "nbformat": 4,
 "nbformat_minor": 2
}
